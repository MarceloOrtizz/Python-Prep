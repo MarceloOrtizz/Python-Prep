{
 "cells": [
  {
   "attachments": {},
   "cell_type": "markdown",
   "metadata": {},
   "source": [
    "## Funciones"
   ]
  },
  {
   "attachments": {},
   "cell_type": "markdown",
   "metadata": {},
   "source": [
    "1) Crear una función que reciba un número como parámetro y devuelva True si es primo y False si no lo es"
   ]
  },
  {
   "cell_type": "code",
   "execution_count": 28,
   "metadata": {},
   "outputs": [
    {
     "data": {
      "text/plain": [
       "False"
      ]
     },
     "execution_count": 28,
     "metadata": {},
     "output_type": "execute_result"
    }
   ],
   "source": [
    "def test_primo(n):\n",
    "    primo=True\n",
    "    if type(n) != int or n<2:\n",
    "        return(False)\n",
    "    for x in range(2,int(n**(1/2))+1):\n",
    "        if n%x==0:\n",
    "            primo=False\n",
    "            break\n",
    "    return(primo)\n",
    "test_primo(-5)\n",
    "\n",
    "#test_primo(737186503)\n",
    "#test_primo(6737186501)"
   ]
  },
  {
   "attachments": {},
   "cell_type": "markdown",
   "metadata": {},
   "source": [
    "2) Utilizando la función del punto 1, realizar otra función que reciba de parámetro una lista de números y devuelva sólo aquellos que son primos en otra lista"
   ]
  },
  {
   "cell_type": "code",
   "execution_count": 38,
   "metadata": {},
   "outputs": [
    {
     "data": {
      "text/plain": [
       "[7, 11, 97]"
      ]
     },
     "execution_count": 38,
     "metadata": {},
     "output_type": "execute_result"
    }
   ],
   "source": [
    "def solo_primos(listan):\n",
    "    lsp=[]\n",
    "    for z in listan:\n",
    "        if test_primo(z):\n",
    "            lsp.append(z)\n",
    "    return(lsp)        \n",
    "        \n",
    "solo_primos([7,11,\"hola\",-11,5.27,39,48,55,91,93,97])"
   ]
  },
  {
   "cell_type": "code",
   "execution_count": 42,
   "metadata": {},
   "outputs": [
    {
     "name": "stdout",
     "output_type": "stream",
     "text": [
      "[11, 577]\n"
     ]
    }
   ],
   "source": [
    "listatotal=[0,11,18,123,577,2.71728,-11371]\n",
    "listaprimos=solo_primos(listatotal)\n",
    "print(listaprimos)"
   ]
  },
  {
   "attachments": {},
   "cell_type": "markdown",
   "metadata": {},
   "source": [
    "3) Crear una función que al recibir una lista de números, devuelva el que más se repite y cuántas veces lo hace. Si hay más de un \"más repetido\", que devuelva cualquiera"
   ]
  },
  {
   "cell_type": "code",
   "execution_count": 94,
   "metadata": {},
   "outputs": [
    {
     "data": {
      "text/plain": [
       "(7, 5)"
      ]
     },
     "execution_count": 94,
     "metadata": {},
     "output_type": "execute_result"
    }
   ],
   "source": [
    "def mayor_frequencia(lisn):\n",
    "    if type(lisn) != list or len(lisn)==0:\n",
    "        return None\n",
    "    \n",
    "    #lisf=[]\n",
    "    mayorf=0\n",
    "    for i,v in enumerate(lisn):\n",
    "        c=0\n",
    "        for x in lisn:\n",
    "            if v==x:\n",
    "                c=c+1\n",
    "        if c > mayorf:\n",
    "            mayorf=c\n",
    "            imf=i\n",
    "        #lisf.append(c)\n",
    "    return lisn[imf], mayorf\n",
    "\n",
    "mayor_frequencia([8,7,2,2,2,11,7,7,3,5,4,4,2,8,7,8,8,7,3])  "
   ]
  },
  {
   "cell_type": "code",
   "execution_count": 93,
   "metadata": {},
   "outputs": [],
   "source": [
    "mayor_frequencia(\"hola\")"
   ]
  },
  {
   "cell_type": "code",
   "execution_count": 70,
   "metadata": {},
   "outputs": [
    {
     "name": "stdout",
     "output_type": "stream",
     "text": [
      "[4, 7, 4, 4, 4, 1, 7, 7, 7, 1, 1, 2, 2, 7, 4, 4, 7, 7, 4, 4]\n",
      "7\n",
      "8\n"
     ]
    }
   ],
   "source": [
    "mayor_frequencia([8,7,2,2,2,11,7,7,7,3,5,4,4,7,2,8,7,7,8,8])"
   ]
  },
  {
   "attachments": {},
   "cell_type": "markdown",
   "metadata": {},
   "source": [
    "4) A la función del punto 3, agregar un parámetro más, que permita elegir si se requiere el menor o el mayor de los mas repetidos."
   ]
  },
  {
   "cell_type": "code",
   "execution_count": null,
   "metadata": {},
   "outputs": [],
   "source": []
  },
  {
   "attachments": {},
   "cell_type": "markdown",
   "metadata": {},
   "source": [
    "5) Crear una función que convierta entre grados Celsius, Farenheit y Kelvin<br>\n",
    "Fórmula 1\t: (°C × 9/5) + 32 = °F<br>\n",
    "Fórmula 2\t: °C + 273.15 = °K<br>\n",
    "Debe recibir 3 parámetros: el valor, la medida de orígen y la medida de destino\n"
   ]
  },
  {
   "cell_type": "code",
   "execution_count": null,
   "metadata": {},
   "outputs": [],
   "source": []
  },
  {
   "attachments": {},
   "cell_type": "markdown",
   "metadata": {},
   "source": [
    "6) Iterando una lista con los tres valores posibles de temperatura que recibe la función del punto 5, hacer un print para cada combinación de los mismos:"
   ]
  },
  {
   "cell_type": "code",
   "execution_count": null,
   "metadata": {},
   "outputs": [],
   "source": []
  },
  {
   "attachments": {},
   "cell_type": "markdown",
   "metadata": {},
   "source": [
    "7) Armar una función que devuelva el factorial de un número. Tener en cuenta que el usuario puede equivocarse y enviar de parámetro un número no entero o negativo"
   ]
  },
  {
   "cell_type": "code",
   "execution_count": null,
   "metadata": {},
   "outputs": [],
   "source": []
  }
 ],
 "metadata": {
  "interpreter": {
   "hash": "c85384e4cb51c8b72350f3a8712cc8351fdc3955e32a27f9b60c6242ab125f01"
  },
  "kernelspec": {
   "display_name": "Python 3 (ipykernel)",
   "language": "python",
   "name": "python3"
  },
  "language_info": {
   "codemirror_mode": {
    "name": "ipython",
    "version": 3
   },
   "file_extension": ".py",
   "mimetype": "text/x-python",
   "name": "python",
   "nbconvert_exporter": "python",
   "pygments_lexer": "ipython3",
   "version": "3.10.11"
  }
 },
 "nbformat": 4,
 "nbformat_minor": 4
}

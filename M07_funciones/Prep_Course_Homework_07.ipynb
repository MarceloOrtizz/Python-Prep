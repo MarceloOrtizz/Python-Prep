{
 "cells": [
  {
   "attachments": {},
   "cell_type": "markdown",
   "metadata": {},
   "source": [
    "## Funciones"
   ]
  },
  {
   "attachments": {},
   "cell_type": "markdown",
   "metadata": {},
   "source": [
    "1) Crear una función que reciba un número como parámetro y devuelva True si es primo y False si no lo es"
   ]
  },
  {
   "cell_type": "code",
   "execution_count": 28,
   "metadata": {},
   "outputs": [
    {
     "data": {
      "text/plain": [
       "False"
      ]
     },
     "execution_count": 28,
     "metadata": {},
     "output_type": "execute_result"
    }
   ],
   "source": [
    "def test_primo(n):\n",
    "    primo=True\n",
    "    if type(n) != int or n<2:\n",
    "        return(False)\n",
    "    for x in range(2,int(n**(1/2))+1):\n",
    "        if n%x==0:\n",
    "            primo=False\n",
    "            break\n",
    "    return(primo)\n",
    "test_primo(-5)\n",
    "\n",
    "#test_primo(737186503)\n",
    "#test_primo(6737186501)"
   ]
  },
  {
   "attachments": {},
   "cell_type": "markdown",
   "metadata": {},
   "source": [
    "2) Utilizando la función del punto 1, realizar otra función que reciba de parámetro una lista de números y devuelva sólo aquellos que son primos en otra lista"
   ]
  },
  {
   "cell_type": "code",
   "execution_count": 38,
   "metadata": {},
   "outputs": [
    {
     "data": {
      "text/plain": [
       "[7, 11, 97]"
      ]
     },
     "execution_count": 38,
     "metadata": {},
     "output_type": "execute_result"
    }
   ],
   "source": [
    "def solo_primos(listan):\n",
    "    lsp=[]\n",
    "    for z in listan:\n",
    "        if test_primo(z):\n",
    "            lsp.append(z)\n",
    "    return(lsp)        \n",
    "        \n",
    "solo_primos([7,11,\"hola\",-11,5.27,39,48,55,91,93,97])"
   ]
  },
  {
   "cell_type": "code",
   "execution_count": 42,
   "metadata": {},
   "outputs": [
    {
     "name": "stdout",
     "output_type": "stream",
     "text": [
      "[11, 577]\n"
     ]
    }
   ],
   "source": [
    "listatotal=[0,11,18,123,577,2.71728,-11371]\n",
    "listaprimos=solo_primos(listatotal)\n",
    "print(listaprimos)"
   ]
  },
  {
   "attachments": {},
   "cell_type": "markdown",
   "metadata": {},
   "source": [
    "3) Crear una función que al recibir una lista de números, devuelva el que más se repite y cuántas veces lo hace. Si hay más de un \"más repetido\", que devuelva cualquiera"
   ]
  },
  {
   "cell_type": "code",
   "execution_count": 118,
   "metadata": {},
   "outputs": [
    {
     "data": {
      "text/plain": [
       "(7, 5)"
      ]
     },
     "execution_count": 118,
     "metadata": {},
     "output_type": "execute_result"
    }
   ],
   "source": [
    "def mayor_frequencia(lisn):\n",
    "    if type(lisn) != list or len(lisn)==0:\n",
    "        return None\n",
    "    \n",
    "    mayorf=0\n",
    "    for i,v in enumerate(lisn):\n",
    "        c=0\n",
    "        for x in lisn:\n",
    "            if v==x:\n",
    "                c=c+1\n",
    "        if c > mayorf:\n",
    "            mayorf=c\n",
    "            imf=i\n",
    "    return lisn[imf], mayorf\n",
    "\n",
    "mayor_frequencia([8,7,2,2,2,11,7,7,3,5,4,4,2,8,7,8,8,7,3])  "
   ]
  },
  {
   "cell_type": "code",
   "execution_count": 93,
   "metadata": {},
   "outputs": [],
   "source": [
    "mayor_frequencia(\"hola\")"
   ]
  },
  {
   "cell_type": "code",
   "execution_count": 70,
   "metadata": {},
   "outputs": [
    {
     "name": "stdout",
     "output_type": "stream",
     "text": [
      "[4, 7, 4, 4, 4, 1, 7, 7, 7, 1, 1, 2, 2, 7, 4, 4, 7, 7, 4, 4]\n",
      "7\n",
      "8\n"
     ]
    }
   ],
   "source": [
    "mayor_frequencia([8,7,2,2,2,11,7,7,7,3,5,4,4,7,2,8,7,7,8,8])"
   ]
  },
  {
   "attachments": {},
   "cell_type": "markdown",
   "metadata": {},
   "source": [
    "4) A la función del punto 3, agregar un parámetro más, que permita elegir si se requiere el menor o el mayor de los mas repetidos."
   ]
  },
  {
   "cell_type": "code",
   "execution_count": 117,
   "metadata": {},
   "outputs": [],
   "source": [
    "def mayor_frequencia(lisn,mayor=True):\n",
    "    if type(lisn) != list or len(lisn)==0:\n",
    "        return None\n",
    "\n",
    "    mayorf=1\n",
    "    if mayor:\n",
    "        mayorf=0\n",
    "    else:\n",
    "        mayorf=len(lisn)    \n",
    "    for i,v in enumerate(lisn):\n",
    "        c=0\n",
    "        for x in lisn:\n",
    "            if v==x:\n",
    "                c=c+1\n",
    "        if mayor:\n",
    "            if c > mayorf:\n",
    "                mayorf=c\n",
    "                imf=i\n",
    "        else:\n",
    "            if c < mayorf:\n",
    "                mayorf=c\n",
    "                imf=i\n",
    "    return lisn[imf], mayorf\n",
    "\n"
   ]
  },
  {
   "cell_type": "code",
   "execution_count": 116,
   "metadata": {},
   "outputs": [
    {
     "data": {
      "text/plain": [
       "(5, 4)"
      ]
     },
     "execution_count": 116,
     "metadata": {},
     "output_type": "execute_result"
    }
   ],
   "source": [
    "mayor_frequencia([3,3,5,5,5,5,3])  "
   ]
  },
  {
   "attachments": {},
   "cell_type": "markdown",
   "metadata": {},
   "source": [
    "5) Crear una función que convierta entre grados Celsius, Farenheit y Kelvin<br>\n",
    "Fórmula 1\t: (°C × 9/5) + 32 = °F<br>\n",
    "Fórmula 2\t: °C + 273.15 = °K<br>\n",
    "Debe recibir 3 parámetros: el valor, la medida de orígen y la medida de destino\n"
   ]
  },
  {
   "cell_type": "code",
   "execution_count": 137,
   "metadata": {},
   "outputs": [],
   "source": [
    "def convierte(valor,origen, destino):\n",
    "    if origen!=\"C\" and origen!=\"F\" and origen!=\"K\":\n",
    "        return None\n",
    "    if destino!=\"C\" and destino!=\"F\" and destino!=\"K\":\n",
    "        return None\n",
    "    if origen==\"C\" and destino==\"F\":\n",
    "        r=valor*9/5+32\n",
    "    if origen==\"C\" and destino==\"K\":   \n",
    "        r=valor+273.15\n",
    "    if origen==\"F\" and destino==\"C\":\n",
    "        r=(valor-32)*5/9\n",
    "    if origen==\"F\" and destino==\"K\":  \n",
    "        r=(valor-32)*5/9+273.15\n",
    "    if origen==\"K\" and destino==\"C\":\n",
    "        r=valor-273.15\n",
    "    if origen==\"K\" and destino==\"F\":                  \n",
    "        r=(valor-273.15)*9/5+32\n",
    "    if origen==destino:\n",
    "        r=valor    \n",
    "    return(r)    \n"
   ]
  },
  {
   "cell_type": "code",
   "execution_count": 145,
   "metadata": {},
   "outputs": [
    {
     "data": {
      "text/plain": [
       "40"
      ]
     },
     "execution_count": 145,
     "metadata": {},
     "output_type": "execute_result"
    }
   ],
   "source": [
    "convierte(40,\"C\",\"C\")"
   ]
  },
  {
   "attachments": {},
   "cell_type": "markdown",
   "metadata": {},
   "source": [
    "6) Iterando una lista con los tres valores posibles de temperatura que recibe la función del punto 5, hacer un print para cada combinación de los mismos:"
   ]
  },
  {
   "cell_type": "code",
   "execution_count": 150,
   "metadata": {},
   "outputs": [
    {
     "name": "stdout",
     "output_type": "stream",
     "text": [
      "1 grado C convertido a C es: 1\n",
      "1 grado C convertido a K es: 274.15\n",
      "1 grado C convertido a F es: 33.8\n",
      "1 grado K convertido a C es: -272.15\n",
      "1 grado K convertido a K es: 1\n",
      "1 grado K convertido a F es: -457.87\n",
      "1 grado F convertido a C es: -17.22222222222222\n",
      "1 grado F convertido a K es: 255.92777777777775\n",
      "1 grado F convertido a F es: 1\n"
     ]
    }
   ],
   "source": [
    "tipos=[\"C\",\"K\",\"F\"]\n",
    "t=1\n",
    "for o in tipos:\n",
    "    for d in tipos:\n",
    "        #print(convierte(t,o,d))\n",
    "        print(f\"{t} grado {o} convertido a {d} es: {(convierte(t,o,d))}\")\n"
   ]
  },
  {
   "attachments": {},
   "cell_type": "markdown",
   "metadata": {},
   "source": [
    "7) Armar una función que devuelva el factorial de un número. Tener en cuenta que el usuario puede equivocarse y enviar de parámetro un número no entero o negativo"
   ]
  },
  {
   "cell_type": "code",
   "execution_count": 11,
   "metadata": {},
   "outputs": [],
   "source": [
    "def factorial(num):\n",
    "    if type(num) != int or num<0:\n",
    "        return None\n",
    "    f=num\n",
    "    if f==0:\n",
    "        f=1\n",
    "    while num>1:\n",
    "        num=num-1\n",
    "        f=f*num\n",
    "    return f\n",
    "\n",
    "    "
   ]
  },
  {
   "cell_type": "code",
   "execution_count": 37,
   "metadata": {},
   "outputs": [],
   "source": [
    "def fac(num):\n",
    "    if type(num) != int or num<0:\n",
    "        return None\n",
    "    if num<=1:\n",
    "        return 1\n",
    "    num = num * fac(num-1)\n",
    "    return num\n"
   ]
  },
  {
   "cell_type": "code",
   "execution_count": 35,
   "metadata": {},
   "outputs": [
    {
     "name": "stdout",
     "output_type": "stream",
     "text": [
      "120\n",
      "None\n",
      "None\n",
      "None\n"
     ]
    }
   ],
   "source": [
    "print(factorial(5))\n",
    "print(factorial(-2))\n",
    "print(factorial(1.23))\n",
    "print(factorial('6'))"
   ]
  },
  {
   "cell_type": "code",
   "execution_count": 36,
   "metadata": {},
   "outputs": [
    {
     "name": "stdout",
     "output_type": "stream",
     "text": [
      "2\n",
      "6\n",
      "24\n",
      "120\n",
      "120\n",
      "None\n",
      "None\n",
      "None\n"
     ]
    }
   ],
   "source": [
    "print(fac(5))\n",
    "print(fac(-2))\n",
    "print(fac(1.23))\n",
    "print(fac('6'))"
   ]
  },
  {
   "cell_type": "code",
   "execution_count": 39,
   "metadata": {},
   "outputs": [
    {
     "data": {
      "text/plain": [
       "13"
      ]
     },
     "execution_count": 39,
     "metadata": {},
     "output_type": "execute_result"
    }
   ],
   "source": [
    "sumodos = lambda x ,y: x+2*y\n",
    "\n",
    "sumodos(3,5)"
   ]
  }
 ],
 "metadata": {
  "interpreter": {
   "hash": "c85384e4cb51c8b72350f3a8712cc8351fdc3955e32a27f9b60c6242ab125f01"
  },
  "kernelspec": {
   "display_name": "Python 3 (ipykernel)",
   "language": "python",
   "name": "python3"
  },
  "language_info": {
   "codemirror_mode": {
    "name": "ipython",
    "version": 3
   },
   "file_extension": ".py",
   "mimetype": "text/x-python",
   "name": "python",
   "nbconvert_exporter": "python",
   "pygments_lexer": "ipython3",
   "version": "3.10.11"
  }
 },
 "nbformat": 4,
 "nbformat_minor": 4
}

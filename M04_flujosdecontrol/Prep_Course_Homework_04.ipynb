{
 "cells": [
  {
   "attachments": {},
   "cell_type": "markdown",
   "metadata": {},
   "source": [
    "## Flujos de Control"
   ]
  },
  {
   "attachments": {},
   "cell_type": "markdown",
   "metadata": {},
   "source": [
    "1) Crear una variable que contenga un elemento del conjunto de números enteros y luego imprimir por pantalla si es mayor o menor a cero"
   ]
  },
  {
   "cell_type": "code",
   "execution_count": 6,
   "metadata": {},
   "outputs": [],
   "source": [
    "v=0\n",
    "if v>0:\n",
    "    print(\"es mayor a 0\")\n",
    "if v<0:\n",
    "    print(\"es menor a 0\")    "
   ]
  },
  {
   "cell_type": "code",
   "execution_count": 11,
   "metadata": {},
   "outputs": [
    {
     "name": "stdout",
     "output_type": "stream",
     "text": [
      "es igual a 0\n"
     ]
    }
   ],
   "source": [
    "v=0\n",
    "if v>0:\n",
    "    print(\"es mayor a 0\")\n",
    "if v<0:\n",
    "    print(\"es menor a 0\") \n",
    "if v==0:     \n",
    "    print(\"es igual a 0\")      "
   ]
  },
  {
   "cell_type": "code",
   "execution_count": 16,
   "metadata": {},
   "outputs": [
    {
     "name": "stdout",
     "output_type": "stream",
     "text": [
      "es mayor a 0\n"
     ]
    }
   ],
   "source": [
    "v=4\n",
    "if v>0:\n",
    "    print(\"es mayor a 0\")\n",
    "elif v==0:\n",
    "    print(\"es igual a 0\")\n",
    "else:\n",
    "    print(\"es menor a 0\")\n",
    "\n",
    "         "
   ]
  },
  {
   "attachments": {},
   "cell_type": "markdown",
   "metadata": {},
   "source": [
    "2) Crear dos variables y un condicional que informe si son del mismo tipo de dato"
   ]
  },
  {
   "cell_type": "code",
   "execution_count": 21,
   "metadata": {},
   "outputs": [
    {
     "name": "stdout",
     "output_type": "stream",
     "text": [
      "son iguales\n"
     ]
    }
   ],
   "source": [
    "v1=False\n",
    "v2=True\n",
    "if type(v1)==type(v2):\n",
    "    print(\"son iguales\")\n",
    "else:\n",
    "    print(\"son de otro tipo\")"
   ]
  },
  {
   "cell_type": "code",
   "execution_count": 25,
   "metadata": {},
   "outputs": [
    {
     "name": "stdout",
     "output_type": "stream",
     "text": [
      "False\n"
     ]
    }
   ],
   "source": [
    "v1=7\n",
    "v2=True\n",
    "print(type(v1)==type(v2))"
   ]
  },
  {
   "attachments": {},
   "cell_type": "markdown",
   "metadata": {},
   "source": [
    "3) Para los valores enteros del 1 al 20, imprimir por pantalla si es par o impar"
   ]
  },
  {
   "cell_type": "code",
   "execution_count": 1,
   "metadata": {},
   "outputs": [
    {
     "name": "stdout",
     "output_type": "stream",
     "text": [
      "el numero 1 es un impar\n",
      "el numero 2 SI es par\n",
      "el numero 3 es un impar\n",
      "el numero 4 SI es par\n",
      "el numero 5 es un impar\n",
      "el numero 6 SI es par\n",
      "el numero 7 es un impar\n",
      "el numero 8 SI es par\n",
      "el numero 9 es un impar\n",
      "el numero 10 SI es par\n",
      "el numero 11 es un impar\n",
      "el numero 12 SI es par\n",
      "el numero 13 es un impar\n",
      "el numero 14 SI es par\n",
      "el numero 15 es un impar\n",
      "el numero 16 SI es par\n",
      "el numero 17 es un impar\n",
      "el numero 18 SI es par\n",
      "el numero 19 es un impar\n",
      "el numero 20 SI es par\n"
     ]
    }
   ],
   "source": [
    "for n in range(1,21):\n",
    "    if n % 2 ==0:\n",
    "        #print(f\"el numero {n} SI es par\")\n",
    "        print(\"el numero \"+str(n)+\" SI es par\")\n",
    "    else:\n",
    "        print(f\"el numero {n} es un impar\")    \n"
   ]
  },
  {
   "cell_type": "code",
   "execution_count": 62,
   "metadata": {},
   "outputs": [
    {
     "name": "stdout",
     "output_type": "stream",
     "text": [
      "el numero 1 es un impar\n",
      "el numero 2 SI es par\n",
      "el numero 3 es un impar\n",
      "el numero 4 SI es par\n",
      "el numero 5 es un impar\n",
      "el numero 6 SI es par\n",
      "el numero 7 es un impar\n",
      "el numero 8 SI es par\n",
      "el numero 9 es un impar\n",
      "el numero 10 SI es par\n",
      "el numero 11 es un impar\n",
      "el numero 12 SI es par\n",
      "el numero 13 es un impar\n",
      "el numero 14 SI es par\n",
      "el numero 15 es un impar\n",
      "el numero 16 SI es par\n",
      "el numero 17 es un impar\n",
      "el numero 18 SI es par\n",
      "el numero 19 es un impar\n",
      "el numero 20 SI es par\n"
     ]
    }
   ],
   "source": [
    "# Usando while\n",
    "i=0\n",
    "while i<20:\n",
    "    i+=1    \n",
    "    if i % 2 ==0:\n",
    "        #print(f\"el numero {i} SI es par\")\n",
    "        print(\"el numero \"+str(i)+\" SI es par\")\n",
    "    else:\n",
    "        print(f\"el numero {i} es un impar\")    \n"
   ]
  },
  {
   "cell_type": "code",
   "execution_count": 71,
   "metadata": {},
   "outputs": [
    {
     "name": "stdout",
     "output_type": "stream",
     "text": [
      "el numero 1 es un impar\n",
      "el numero 2 SI es par\n",
      "el numero 3 es un impar\n",
      "el numero 4 SI es par\n",
      "el numero 5 es un impar\n",
      "el numero 6 SI es par\n",
      "el numero 7 es un impar\n",
      "el numero 8 SI es par\n",
      "el numero 9 es un impar\n",
      "el numero 10 SI es par\n",
      "el numero 11 es un impar\n",
      "el numero 12 SI es par\n",
      "el numero 13 es un impar\n",
      "el numero 14 SI es par\n",
      "el numero 15 es un impar\n",
      "el numero 16 SI es par\n",
      "el numero 17 es un impar\n",
      "el numero 18 SI es par\n",
      "el numero 19 es un impar\n",
      "el numero 20 SI es par\n"
     ]
    }
   ],
   "source": [
    "i = 0\n",
    "while True:\n",
    "    i+=1   \n",
    "    if i>20:\n",
    "        break        \n",
    "    if i % 2 ==0:\n",
    "        print(\"el numero \"+str(i)+\" SI es par\")\n",
    "    else:\n",
    "        print(f\"el numero {i} es un impar\")  \n",
    " \n"
   ]
  },
  {
   "attachments": {},
   "cell_type": "markdown",
   "metadata": {},
   "source": [
    "4) En un ciclo for mostrar para los valores entre 0 y 5 el resultado de elevarlo a la potencia igual a 3"
   ]
  },
  {
   "cell_type": "code",
   "execution_count": 40,
   "metadata": {},
   "outputs": [
    {
     "name": "stdout",
     "output_type": "stream",
     "text": [
      "0 al cubo es 0\n",
      "1 al cubo es 1\n",
      "2 al cubo es 8\n",
      "3 al cubo es 27\n",
      "4 al cubo es 64\n",
      "5 al cubo es 125\n"
     ]
    }
   ],
   "source": [
    "for x in range(0,6):\n",
    "    print(f\"{x} al cubo es {x**3}\")"
   ]
  },
  {
   "cell_type": "code",
   "execution_count": 41,
   "metadata": {},
   "outputs": [
    {
     "name": "stdout",
     "output_type": "stream",
     "text": [
      "0 al cubo es 0\n",
      "1 al cubo es 1\n",
      "2 al cubo es 8\n",
      "3 al cubo es 27\n",
      "4 al cubo es 64\n",
      "5 al cubo es 125\n"
     ]
    }
   ],
   "source": [
    "for x in range(0,6):\n",
    "    c=x**3\n",
    "    print(f\"{x} al cubo es {c}\")"
   ]
  },
  {
   "attachments": {},
   "cell_type": "markdown",
   "metadata": {},
   "source": [
    "5) Crear una variable que contenga un número entero y realizar un ciclo for la misma cantidad de ciclos"
   ]
  },
  {
   "cell_type": "code",
   "execution_count": 54,
   "metadata": {},
   "outputs": [
    {
     "name": "stdout",
     "output_type": "stream",
     "text": [
      "vuelta numero:  1\n",
      "vuelta numero:  2\n",
      "vuelta numero:  3\n"
     ]
    }
   ],
   "source": [
    "var=3\n",
    "for x in range(0,var):\n",
    "    print(\"vuelta numero: \",x+1)"
   ]
  },
  {
   "cell_type": "code",
   "execution_count": 45,
   "metadata": {},
   "outputs": [
    {
     "name": "stdout",
     "output_type": "stream",
     "text": [
      "vuelta numero:  1\n",
      "vuelta numero:  2\n",
      "vuelta numero:  3\n",
      "vuelta numero:  4\n",
      "vuelta numero:  5\n"
     ]
    }
   ],
   "source": [
    "var=5\n",
    "for x in range(var):\n",
    "    print(\"vuelta numero: \",x+1)"
   ]
  },
  {
   "attachments": {},
   "cell_type": "markdown",
   "metadata": {},
   "source": [
    "6) Utilizar un ciclo while para realizar el factorial de un número guardado en una variable, sólo si la variable contiene un número entero mayor a 0"
   ]
  },
  {
   "cell_type": "code",
   "execution_count": 100,
   "metadata": {},
   "outputs": [
    {
     "name": "stdout",
     "output_type": "stream",
     "text": [
      "el factorial de 8 es: 40320\n"
     ]
    }
   ],
   "source": [
    "# n=5\n",
    "# x=n\n",
    "# f=n\n",
    "n=f=x=8\n",
    "if type(n)==int:\n",
    "    if n>0:\n",
    "        while n>1:\n",
    "            f=f*(n-1)\n",
    "            n=n-1\n",
    "        print(f\"el factorial de {x} es: {f}\")   \n",
    "    else:\n",
    "        print(\"Tiene que ser un numero mayor a 0\")     \n",
    "else:\n",
    "    print(\"Tiene que ser un numero entero\")     \n",
    "    \n",
    "\n"
   ]
  },
  {
   "attachments": {},
   "cell_type": "markdown",
   "metadata": {},
   "source": [
    "7) Crear un ciclo for dentro de un ciclo while"
   ]
  },
  {
   "cell_type": "code",
   "execution_count": 207,
   "metadata": {},
   "outputs": [
    {
     "name": "stdout",
     "output_type": "stream",
     "text": [
      "1 1\n",
      "2 1\n",
      "2 2\n",
      "3 1\n",
      "3 2\n",
      "3 3\n",
      "4 1\n",
      "4 2\n",
      "4 3\n",
      "4 4\n",
      "5 1\n",
      "5 2\n",
      "5 3\n",
      "5 4\n",
      "5 5\n",
      "6 1\n",
      "6 2\n",
      "6 3\n",
      "6 4\n",
      "6 5\n",
      "6 6\n",
      "7 1\n",
      "7 2\n",
      "7 3\n",
      "7 4\n",
      "7 5\n",
      "7 6\n",
      "7 7\n",
      "8 1\n",
      "8 2\n",
      "8 3\n",
      "8 4\n",
      "8 5\n",
      "8 6\n",
      "8 7\n",
      "8 8\n",
      "9 1\n",
      "9 2\n",
      "9 3\n",
      "9 4\n",
      "9 5\n",
      "9 6\n",
      "9 7\n",
      "9 8\n",
      "9 9\n",
      "10 1\n",
      "10 2\n",
      "10 3\n",
      "10 4\n",
      "10 5\n",
      "10 6\n",
      "10 7\n",
      "10 8\n",
      "10 9\n",
      "10 10\n"
     ]
    }
   ],
   "source": [
    "i=0\n",
    "while i<10:\n",
    "    i+=1\n",
    "    for x in range(1,i+1):\n",
    "        print(i,x)\n",
    "    \n"
   ]
  },
  {
   "attachments": {},
   "cell_type": "markdown",
   "metadata": {},
   "source": [
    "8) Crear un ciclo while dentro de un ciclo for"
   ]
  },
  {
   "cell_type": "code",
   "execution_count": 214,
   "metadata": {},
   "outputs": [
    {
     "name": "stdout",
     "output_type": "stream",
     "text": [
      "1 1\n",
      "1 2\n",
      "1 3\n",
      "1 4\n",
      "1 5\n",
      "2 1\n",
      "2 2\n",
      "2 3\n",
      "2 4\n",
      "2 5\n",
      "3 1\n",
      "3 2\n",
      "3 3\n",
      "3 4\n",
      "3 5\n",
      "4 1\n",
      "4 2\n",
      "4 3\n",
      "4 4\n",
      "4 5\n",
      "5 1\n",
      "5 2\n",
      "5 3\n",
      "5 4\n",
      "5 5\n"
     ]
    }
   ],
   "source": [
    "m=5\n",
    "for x in range(1,m+1):\n",
    "    i=0\n",
    "    while i<5:\n",
    "        i+=1\n",
    "        print(x,i)\n",
    "\n",
    "\n"
   ]
  },
  {
   "attachments": {},
   "cell_type": "markdown",
   "metadata": {},
   "source": [
    "9) Imprimir los números primos existentes entre 0 y 30"
   ]
  },
  {
   "cell_type": "code",
   "execution_count": 49,
   "metadata": {},
   "outputs": [
    {
     "name": "stdout",
     "output_type": "stream",
     "text": [
      "2  es primo\n",
      "3  es primo\n",
      "5  es primo\n",
      "7  es primo\n",
      "11  es primo\n",
      "13  es primo\n",
      "17  es primo\n",
      "19  es primo\n",
      "23  es primo\n",
      "29  es primo\n"
     ]
    }
   ],
   "source": [
    "#alguien en slack\n",
    "for num in range (2,30):\n",
    "    i=2\n",
    "    while i<num:\n",
    "        if(num%i==0):\n",
    "            break\n",
    "        i += 1\n",
    "    if(i==num):\n",
    "        print(num,\" es primo\")"
   ]
  },
  {
   "cell_type": "code",
   "execution_count": 14,
   "metadata": {},
   "outputs": [
    {
     "data": {
      "text/plain": [
       "11"
      ]
     },
     "execution_count": 14,
     "metadata": {},
     "output_type": "execute_result"
    }
   ],
   "source": [
    "11%528"
   ]
  },
  {
   "cell_type": "code",
   "execution_count": 15,
   "metadata": {},
   "outputs": [
    {
     "ename": "NameError",
     "evalue": "name 's' is not defined",
     "output_type": "error",
     "traceback": [
      "\u001b[1;31m---------------------------------------------------------------------------\u001b[0m",
      "\u001b[1;31mNameError\u001b[0m                                 Traceback (most recent call last)",
      "Cell \u001b[1;32mIn[15], line 12\u001b[0m\n\u001b[0;32m     10\u001b[0m         \u001b[39melse\u001b[39;00m:\n\u001b[0;32m     11\u001b[0m             s\u001b[39m=\u001b[39m\u001b[39m1\u001b[39m\n\u001b[1;32m---> 12\u001b[0m     \u001b[39mif\u001b[39;00m s\u001b[39m==\u001b[39m\u001b[39m1\u001b[39m:\n\u001b[0;32m     13\u001b[0m         \u001b[39mprint\u001b[39m(z, \u001b[39m\"\u001b[39m\u001b[39mes primo\u001b[39m\u001b[39m\"\u001b[39m)     \n\u001b[0;32m     14\u001b[0m \u001b[39mprint\u001b[39m(\u001b[39m\"\u001b[39m\u001b[39mciclos: \u001b[39m\u001b[39m\"\u001b[39m,c)           \n",
      "\u001b[1;31mNameError\u001b[0m: name 's' is not defined"
     ]
    }
   ],
   "source": [
    "#usando solo for\n",
    "c=0\n",
    "max=30\n",
    "for z in range(2,max):\n",
    "    for x in range(2,z):\n",
    "        c+=1\n",
    "        if z % x == 0:\n",
    "            s=0\n",
    "            break\n",
    "        else:\n",
    "            s=1\n",
    "    if s==1:\n",
    "        print(z, \"es primo\")     \n",
    "print(\"ciclos: \",c)           \n",
    "            \n",
    "\n",
    "        "
   ]
  },
  {
   "cell_type": "code",
   "execution_count": 56,
   "metadata": {},
   "outputs": [
    {
     "name": "stdout",
     "output_type": "stream",
     "text": [
      "49985001  vueltas\n",
      "cantidad de primos:  1229\n"
     ]
    }
   ],
   "source": [
    "#recorriendo todo\n",
    "tope_rango=10000\n",
    "n = 2\n",
    "qp=0\n",
    "vueltas=0\n",
    "primo = True\n",
    "while (n <= tope_rango):\n",
    "    for div in range(2, n):\n",
    "        vueltas+=1\n",
    "        if (n % div == 0):\n",
    "            primo = False\n",
    "    if (primo):\n",
    "        #print(n)\n",
    "        qp+=1\n",
    "    else:\n",
    "        primo = True\n",
    "    n += 1\n",
    "print(vueltas,\" vueltas\")   \n",
    "print(\"cantidad de primos: \",qp)     "
   ]
  },
  {
   "cell_type": "code",
   "execution_count": 57,
   "metadata": {},
   "outputs": [
    {
     "name": "stdout",
     "output_type": "stream",
     "text": [
      "5775223  vueltas\n",
      "cantidad de primos:  1229\n"
     ]
    }
   ],
   "source": [
    "#recorriendo todo c/break\n",
    "tope_rango=10000\n",
    "n = 2\n",
    "qp=0\n",
    "vueltas=0\n",
    "primo = True\n",
    "while (n <= tope_rango):\n",
    "    for div in range(2, n):\n",
    "        vueltas+=1\n",
    "        if (n % div == 0):\n",
    "            primo = False\n",
    "            break\n",
    "    if (primo):\n",
    "        #print(n)\n",
    "        qp+=1\n",
    "    else:\n",
    "        primo = True\n",
    "    n += 1\n",
    "print(vueltas,\" vueltas\")   \n",
    "print(\"cantidad de primos: \",qp) "
   ]
  },
  {
   "cell_type": "code",
   "execution_count": 58,
   "metadata": {},
   "outputs": [
    {
     "name": "stdout",
     "output_type": "stream",
     "text": [
      "651750  vueltas\n",
      "cantidad de primos:  1229\n"
     ]
    }
   ],
   "source": [
    "#hasta la raiz cuadrada\n",
    "max=10000\n",
    "n = 2\n",
    "qp=0\n",
    "primo = True\n",
    "vueltas=0\n",
    "while (n <= max):\n",
    "    for div in range(2, int(n**(1/2))+1):\n",
    "        vueltas+=1\n",
    "        if (n % div == 0):\n",
    "            primo = False\n",
    "    if (primo):\n",
    "        #print(n)\n",
    "        qp+=1\n",
    "    else:\n",
    "        primo = True\n",
    "    n += 1\n",
    "print(vueltas,\" vueltas\")  \n",
    "print(\"cantidad de primos: \",qp)   "
   ]
  },
  {
   "cell_type": "code",
   "execution_count": 59,
   "metadata": {},
   "outputs": [
    {
     "name": "stdout",
     "output_type": "stream",
     "text": [
      "117527  vueltas\n",
      "cantidad de primos:  1229\n"
     ]
    }
   ],
   "source": [
    "#hasta la raiz cuadrada c/break\n",
    "max=10000\n",
    "n = 2\n",
    "qp=0\n",
    "primo = True\n",
    "vueltas=0\n",
    "while (n <= max):\n",
    "    for div in range(2, int(n**(1/2))+1):\n",
    "        vueltas+=1\n",
    "        if (n % div == 0):\n",
    "            primo = False\n",
    "            break\n",
    "    if (primo):\n",
    "        #print(n)\n",
    "        qp+=1\n",
    "    else:\n",
    "        primo = True\n",
    "    n += 1\n",
    "print(vueltas,\" vueltas\")  \n",
    "print(\"cantidad de primos: \",qp) "
   ]
  },
  {
   "cell_type": "code",
   "execution_count": 90,
   "metadata": {},
   "outputs": [
    {
     "name": "stdout",
     "output_type": "stream",
     "text": [
      "40  vueltas\n",
      "cantidad de primos:  10\n",
      "[2, 3, 5, 7, 11, 13, 17, 19, 23, 29]\n"
     ]
    }
   ],
   "source": [
    "#la mejor forma que encontre, hasta la raiz cuadrada, usando break para\n",
    "#testear solo con una lista de numeros primos\n",
    "max=30\n",
    "n = 2\n",
    "qp=0\n",
    "vueltas=0\n",
    "primo = True\n",
    "lp=[]\n",
    "while (n <= max):\n",
    "    for div in lp:\n",
    "        if div>=int(n**(1/2))+1:\n",
    "            break\n",
    "        vueltas+=1\n",
    "        if (n % div == 0):\n",
    "            primo = False\n",
    "            break\n",
    "    if (primo):\n",
    "        #print(n)\n",
    "        qp+=1\n",
    "        lp.append(n)\n",
    "    else:\n",
    "        primo = True\n",
    "    n += 1\n",
    "print(vueltas,\" vueltas\") \n",
    "print(\"cantidad de primos: \",qp) \n",
    "print(lp)   "
   ]
  },
  {
   "attachments": {},
   "cell_type": "markdown",
   "metadata": {},
   "source": [
    "10) ¿Se puede mejorar el proceso del punto 9? Utilizar las sentencias break y/ó continue para tal fin"
   ]
  },
  {
   "cell_type": "code",
   "execution_count": null,
   "metadata": {},
   "outputs": [],
   "source": [
    "#lo hice antes"
   ]
  },
  {
   "attachments": {},
   "cell_type": "markdown",
   "metadata": {},
   "source": [
    "11) En los puntos 9 y 10, se diseño un código que encuentra números primos y además se lo optimizó. ¿Es posible saber en qué medida se optimizó?"
   ]
  },
  {
   "cell_type": "code",
   "execution_count": null,
   "metadata": {},
   "outputs": [],
   "source": [
    "#contador de vueltas? ya lo hice"
   ]
  },
  {
   "attachments": {},
   "cell_type": "markdown",
   "metadata": {},
   "source": [
    "12) Si la cantidad de números que se evalúa es mayor a treinta, esa optimización crece?"
   ]
  },
  {
   "cell_type": "code",
   "execution_count": null,
   "metadata": {},
   "outputs": [],
   "source": [
    "#su obvio, cuando mas grande es la cantidad si no esta bien optimizado tarda mucho, es lento"
   ]
  },
  {
   "attachments": {},
   "cell_type": "markdown",
   "metadata": {},
   "source": [
    "13) Aplicando continue, armar un ciclo while que solo imprima los valores divisibles por 12, dentro del rango de números de 100 a 300"
   ]
  },
  {
   "cell_type": "code",
   "execution_count": 20,
   "metadata": {},
   "outputs": [
    {
     "name": "stdout",
     "output_type": "stream",
     "text": [
      "108\n",
      "120\n",
      "132\n",
      "144\n",
      "156\n",
      "168\n",
      "180\n",
      "192\n",
      "204\n",
      "216\n",
      "228\n",
      "240\n",
      "252\n",
      "264\n",
      "276\n",
      "288\n",
      "300\n"
     ]
    }
   ],
   "source": [
    "i=99\n",
    "while i<300:\n",
    "    i+=1\n",
    "    if i%12!=0:\n",
    "        continue\n",
    "    print(i)\n",
    "\n",
    "\n",
    "\n",
    "# for i in range(100,300+1):\n",
    "#     if i%12==0:\n",
    "#         print(i)\n",
    "        \n"
   ]
  },
  {
   "attachments": {},
   "cell_type": "markdown",
   "metadata": {},
   "source": [
    "14) Utilizar la función **input()** que permite hacer ingresos por teclado, para encontrar números primos y dar la opción al usario de buscar el siguiente"
   ]
  },
  {
   "cell_type": "code",
   "execution_count": 84,
   "metadata": {},
   "outputs": [
    {
     "name": "stdout",
     "output_type": "stream",
     "text": [
      "El 131 es un numero primo\n"
     ]
    }
   ],
   "source": [
    "n=input(\"ingrese un numero mas a 1: \")\n",
    "n=int(n)\n",
    "for x in range(2,n):\n",
    "    if n % x ==0:\n",
    "        s=0\n",
    "        break\n",
    "    else:\n",
    "        s=1\n",
    "if s==1:\n",
    "    print(f\"El {n} es un numero primo\")\n",
    "else:\n",
    "    print(f\"El numero {n} no es primo\")"
   ]
  },
  {
   "cell_type": "code",
   "execution_count": 89,
   "metadata": {},
   "outputs": [
    {
     "name": "stdout",
     "output_type": "stream",
     "text": [
      "El 2 es primo\n",
      "desea seguir buscando?\n",
      "Finalizo\n",
      "0  vueltas\n",
      "cantidad de primos:  1\n",
      "[]\n"
     ]
    }
   ],
   "source": [
    "\n",
    "n = 2\n",
    "qp=1\n",
    "vueltas=0\n",
    "primo = True\n",
    "s=True\n",
    "lp=[]\n",
    "while s:\n",
    "    for div in lp:\n",
    "        if div>=int(n**(1/2))+1:\n",
    "            break\n",
    "        vueltas+=1\n",
    "        if (n % div == 0):\n",
    "            primo = False\n",
    "            break\n",
    "    if (primo):\n",
    "        print(f\"El {n} es primo\")\n",
    "        print(\"desea seguir buscando?\")\n",
    "        continuar=input(\"s / n\")\n",
    "        if continuar==\"n\":\n",
    "            print(\"Finalizo\")\n",
    "            s=False\n",
    "            break\n",
    "        qp+=1\n",
    "        lp.append(n)\n",
    "    else:\n",
    "        primo = True\n",
    "    n += 1\n",
    "print(vueltas,\" vueltas\") \n",
    "print(\"cantidad de primos: \",qp) \n",
    "print(lp) "
   ]
  },
  {
   "attachments": {},
   "cell_type": "markdown",
   "metadata": {},
   "source": [
    "15) Crear un ciclo while que encuentre dentro del rango de 100 a 300 el primer número divisible por 3 y además múltiplo de 6"
   ]
  },
  {
   "cell_type": "code",
   "execution_count": 98,
   "metadata": {},
   "outputs": [
    {
     "name": "stdout",
     "output_type": "stream",
     "text": [
      "102\n"
     ]
    }
   ],
   "source": [
    "n=100\n",
    "while n<=300:\n",
    "    if n%6==0:\n",
    "        print(n)\n",
    "        break\n",
    "    n+=1\n"
   ]
  },
  {
   "cell_type": "code",
   "execution_count": 7,
   "metadata": {},
   "outputs": [],
   "source": [
    "def ClaseAnimal(especie, v1):\n",
    "    class Animal:\n",
    "        def __init__(self, especie, color):\n",
    "            self.edad = 0\n",
    "            self.especie = especie\n",
    "            self.color = v1\n",
    "        \n",
    "        def CumplirAnios(self):\n",
    "            self.edad = self.edad+1 #(self.edad += 1)\n",
    "            return self.edad\n",
    "        \n",
    "    return Animal(especie,v1)\n",
    "\n",
    "\n"
   ]
  },
  {
   "cell_type": "code",
   "execution_count": 9,
   "metadata": {},
   "outputs": [],
   "source": [
    "v1=Animal(\"perro\",\"blanco\")"
   ]
  },
  {
   "cell_type": "code",
   "execution_count": 11,
   "metadata": {},
   "outputs": [
    {
     "ename": "NameError",
     "evalue": "name 'self' is not defined",
     "output_type": "error",
     "traceback": [
      "\u001b[1;31m---------------------------------------------------------------------------\u001b[0m",
      "\u001b[1;31mNameError\u001b[0m                                 Traceback (most recent call last)",
      "Cell \u001b[1;32mIn[11], line 1\u001b[0m\n\u001b[1;32m----> 1\u001b[0m \u001b[39mself\u001b[39;49m\u001b[39m.\u001b[39mespecie\n",
      "\u001b[1;31mNameError\u001b[0m: name 'self' is not defined"
     ]
    }
   ],
   "source": [
    "self.especie"
   ]
  }
 ],
 "metadata": {
  "interpreter": {
   "hash": "c85384e4cb51c8b72350f3a8712cc8351fdc3955e32a27f9b60c6242ab125f01"
  },
  "kernelspec": {
   "display_name": "Python 3 (ipykernel)",
   "language": "python",
   "name": "python3"
  },
  "language_info": {
   "codemirror_mode": {
    "name": "ipython",
    "version": 3
   },
   "file_extension": ".py",
   "mimetype": "text/x-python",
   "name": "python",
   "nbconvert_exporter": "python",
   "pygments_lexer": "ipython3",
   "version": "3.10.11"
  }
 },
 "nbformat": 4,
 "nbformat_minor": 4
}

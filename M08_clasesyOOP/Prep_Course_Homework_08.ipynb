{
 "cells": [
  {
   "attachments": {},
   "cell_type": "markdown",
   "metadata": {},
   "source": [
    "## Clases y Programación Orientada a Objetos"
   ]
  },
  {
   "attachments": {},
   "cell_type": "markdown",
   "metadata": {},
   "source": [
    "1) Crear la clase vehículo que contenga los atributos:<br>\n",
    "Color<br>\n",
    "Si es moto, auto, camioneta ó camión<br>\n",
    "Cilindrada del motor"
   ]
  },
  {
   "cell_type": "code",
   "execution_count": 8,
   "metadata": {},
   "outputs": [],
   "source": [
    "class Vehiculo:\n",
    "    def __init__(self, color, tipo, cili):\n",
    "        self.co = color\n",
    "        self.ti = tipo\n",
    "        self.ci = cili\n",
    "        self.velo = 0\n",
    "        \n"
   ]
  },
  {
   "cell_type": "code",
   "execution_count": 10,
   "metadata": {},
   "outputs": [
    {
     "name": "stdout",
     "output_type": "stream",
     "text": [
      "Rojo moto 250\n",
      "Azul moto 250\n"
     ]
    }
   ],
   "source": [
    "v1=Vehiculo(color=\"Rojo\", tipo=\"moto\", cili=250)\n",
    "print(v1.co, v1.ti, v1.ci)\n",
    "v2=Vehiculo(\"Azul\",\"auto\",2.8)\n",
    "print(v2.co, v1.ti, v1.ci)\n"
   ]
  },
  {
   "attachments": {},
   "cell_type": "markdown",
   "metadata": {},
   "source": [
    "2) A la clase Vehiculo creada en el punto 1, agregar los siguientes métodos:<br>\n",
    "Acelerar<br>\n",
    "Frenar<br>\n",
    "Doblar<br>"
   ]
  },
  {
   "cell_type": "code",
   "execution_count": 11,
   "metadata": {},
   "outputs": [],
   "source": [
    "class Vehiculo:\n",
    "    def __init__(self, color, tipo, cili):\n",
    "        self.co = color\n",
    "        self.ti = tipo\n",
    "        self.ci = cili\n",
    "        self.velo = 0\n",
    "        self.position = 0\n",
    "\n",
    "    def acelerar(self, v):\n",
    "        self.velo+=v\n",
    "\n",
    "    def frenar(self, f):\n",
    "        self.velo-=f\n",
    "\n",
    "    def doblar(self, angulo):\n",
    "        self.position+=angulo\n",
    "       "
   ]
  },
  {
   "attachments": {},
   "cell_type": "markdown",
   "metadata": {},
   "source": [
    "3) Instanciar 3 objetos de la clase vehículo y ejecutar sus métodos, probar luego el resultado"
   ]
  },
  {
   "cell_type": "code",
   "execution_count": 12,
   "metadata": {},
   "outputs": [],
   "source": [
    "a1=Vehiculo(\"Azul\",\"auto\",2.8)\n",
    "a2=Vehiculo(\"Rojo\",\"moto\",125)\n",
    "a3=Vehiculo(\"Blanco\",\"camioneta\",4.0)"
   ]
  },
  {
   "cell_type": "code",
   "execution_count": 13,
   "metadata": {},
   "outputs": [
    {
     "name": "stdout",
     "output_type": "stream",
     "text": [
      "auto Azul 2.8 0 0\n"
     ]
    }
   ],
   "source": [
    "print(a1.ti, a1.co, a1.ci, a1.velo, a1.position)"
   ]
  },
  {
   "cell_type": "code",
   "execution_count": 15,
   "metadata": {},
   "outputs": [
    {
     "data": {
      "text/plain": [
       "120"
      ]
     },
     "execution_count": 15,
     "metadata": {},
     "output_type": "execute_result"
    }
   ],
   "source": [
    "a1.acelerar(80)\n",
    "a1.frenar(20)\n",
    "a1.velo"
   ]
  },
  {
   "attachments": {},
   "cell_type": "markdown",
   "metadata": {},
   "source": [
    "4) Agregar a la clase Vehiculo, un método que muestre su estado, es decir, a que velocidad se encuentra y su dirección. Y otro método que muestre color, tipo y cilindrada"
   ]
  },
  {
   "cell_type": "code",
   "execution_count": 16,
   "metadata": {},
   "outputs": [],
   "source": [
    "class Vehiculo:\n",
    "    def __init__(self, color, tipo, cili):\n",
    "        self.co = color\n",
    "        self.ti = tipo\n",
    "        self.ci = cili\n",
    "        self.velo = 0\n",
    "        self.position = 0\n",
    "\n",
    "    def acelerar(self, v):\n",
    "        self.velo+=v\n",
    "\n",
    "    def frenar(self, f):\n",
    "        self.velo-=f\n",
    "\n",
    "    def doblar(self, angulo):\n",
    "        self.position+=angulo\n",
    "\n",
    "    def estado(self):\n",
    "        print(f\"velocidad: {self.velo} / direccion: {self.position}\")\n",
    "\n",
    "    def caracteristicas(self):\n",
    "        print(f\"tipo: {self.ti} / color: {self.co} / cilindrada: {self.ci}\")        \n"
   ]
  },
  {
   "cell_type": "code",
   "execution_count": 17,
   "metadata": {},
   "outputs": [],
   "source": [
    "a3=Vehiculo(\"Blanco\",\"camioneta\",4.0)"
   ]
  },
  {
   "cell_type": "code",
   "execution_count": 20,
   "metadata": {},
   "outputs": [
    {
     "name": "stdout",
     "output_type": "stream",
     "text": [
      "180\n",
      "velocidad: 180 / direccion: 0\n",
      "tipo: camioneta / color: Blanco / cilindrada: 4.0\n"
     ]
    }
   ],
   "source": [
    "a3.acelerar(80)\n",
    "a3.frenar(20)\n",
    "print(a3.velo)\n",
    "a3.estado()\n",
    "a3.caracteristicas()"
   ]
  },
  {
   "cell_type": "code",
   "execution_count": 21,
   "metadata": {},
   "outputs": [
    {
     "name": "stdout",
     "output_type": "stream",
     "text": [
      "180\n"
     ]
    }
   ],
   "source": [
    "a3.doblar(180)\n",
    "print(a3.position)"
   ]
  },
  {
   "attachments": {},
   "cell_type": "markdown",
   "metadata": {},
   "source": [
    "5) Crear una clase que permita utilizar las funciones creadas en la práctica del módulo 7<br>\n",
    "Verificar Primo<br>\n",
    "Valor modal<br>\n",
    "Conversión grados<br>\n",
    "Factorial<br>"
   ]
  },
  {
   "cell_type": "code",
   "execution_count": 2,
   "metadata": {},
   "outputs": [],
   "source": [
    "class Herramientas:\n",
    "    def __init__(self):\n",
    "        pass\n",
    "        \n",
    "    def test_primo(self, n):\n",
    "        primo=True\n",
    "        if type(n) != int or n<2:\n",
    "            return(False)\n",
    "        for x in range(2,int(n**(1/2))+1):\n",
    "            if n%x==0:\n",
    "                primo=False\n",
    "                break\n",
    "        return(primo)\n",
    "\n",
    "    def mayor_frequencia(self, lisn,mayor=True):\n",
    "        if type(lisn) != list or len(lisn)==0:\n",
    "            return None\n",
    "        mayorf=1\n",
    "        if mayor:\n",
    "            mayorf=0\n",
    "        else:\n",
    "            mayorf=len(lisn)    \n",
    "        for i,v in enumerate(lisn):\n",
    "            c=0\n",
    "            for x in lisn:\n",
    "                if v==x:\n",
    "                    c=c+1\n",
    "            if mayor:\n",
    "                if c > mayorf:\n",
    "                    mayorf=c\n",
    "                    imf=i\n",
    "            else:\n",
    "                if c < mayorf:\n",
    "                    mayorf=c\n",
    "                    imf=i\n",
    "        return lisn[imf], mayorf\n",
    "\n",
    "    def convierte(self, valor,origen, destino):\n",
    "        if origen!=\"C\" and origen!=\"F\" and origen!=\"K\":\n",
    "            return None\n",
    "        if destino!=\"C\" and destino!=\"F\" and destino!=\"K\":\n",
    "            return None\n",
    "        if origen==\"C\" and destino==\"F\":\n",
    "            r=valor*9/5+32\n",
    "        if origen==\"C\" and destino==\"K\":   \n",
    "            r=valor+273.15\n",
    "        if origen==\"F\" and destino==\"C\":\n",
    "            r=(valor-32)*5/9\n",
    "        if origen==\"F\" and destino==\"K\":  \n",
    "            r=(valor-32)*5/9+273.15\n",
    "        if origen==\"K\" and destino==\"C\":\n",
    "            r=valor-273.15\n",
    "        if origen==\"K\" and destino==\"F\":                  \n",
    "            r=(valor-273.15)*9/5+32\n",
    "        if origen==destino:\n",
    "            r=valor    \n",
    "        return(r)   \n",
    "\n",
    "    def factorial(self, num):\n",
    "        if type(num) != int or num<0:\n",
    "            return None\n",
    "        f=num\n",
    "        if f==0:\n",
    "            f=1\n",
    "        while num>1:\n",
    "            num=num-1\n",
    "            f=f*num\n",
    "        return f\n"
   ]
  },
  {
   "attachments": {},
   "cell_type": "markdown",
   "metadata": {},
   "source": [
    "6) Probar las funciones incorporadas en la clase del punto 5"
   ]
  },
  {
   "cell_type": "code",
   "execution_count": 4,
   "metadata": {},
   "outputs": [],
   "source": [
    "h = Herramientas()"
   ]
  },
  {
   "cell_type": "code",
   "execution_count": 5,
   "metadata": {},
   "outputs": [
    {
     "data": {
      "text/plain": [
       "True"
      ]
     },
     "execution_count": 5,
     "metadata": {},
     "output_type": "execute_result"
    }
   ],
   "source": [
    "h.test_primo(131)"
   ]
  },
  {
   "cell_type": "code",
   "execution_count": 9,
   "metadata": {},
   "outputs": [
    {
     "data": {
      "text/plain": [
       "(5, 4)"
      ]
     },
     "execution_count": 9,
     "metadata": {},
     "output_type": "execute_result"
    }
   ],
   "source": [
    "unal=[3,3,5,5,5,5,3]\n",
    "h.mayor_frequencia(unal) "
   ]
  },
  {
   "cell_type": "code",
   "execution_count": 10,
   "metadata": {},
   "outputs": [
    {
     "data": {
      "text/plain": [
       "89.6"
      ]
     },
     "execution_count": 10,
     "metadata": {},
     "output_type": "execute_result"
    }
   ],
   "source": [
    "h.convierte(32,\"C\",\"F\")"
   ]
  },
  {
   "attachments": {},
   "cell_type": "markdown",
   "metadata": {},
   "source": [
    "7) Es necesario que la clase creada en el punto 5 contenga una lista, sobre la cual se apliquen las funciones incorporadas"
   ]
  },
  {
   "cell_type": "code",
   "execution_count": 14,
   "metadata": {},
   "outputs": [],
   "source": [
    "class Herramientas:\n",
    "    def __init__(self, lista_numeros):\n",
    "        self.lista = lista_numeros\n",
    "\n",
    "    def test_primo(self):\n",
    "        for x in self.lista:\n",
    "            if (self.__test_primo(x)):\n",
    "                print(f\"{x} es primo\")\n",
    "            else:\n",
    "                print(f\"{x} NO es primo\")\n",
    "        \n",
    "    def __test_primo(self, n):\n",
    "        primo=True\n",
    "        if type(n) != int or n<2:\n",
    "            return(False)\n",
    "        for x in range(2,int(n**(1/2))+1):\n",
    "            if n%x==0:\n",
    "                primo=False\n",
    "                break\n",
    "        return(primo)\n",
    "\n",
    "    def mayor_frequencia(self, lisn,mayor=True):\n",
    "        if type(lisn) != list or len(lisn)==0:\n",
    "            return None\n",
    "        mayorf=1\n",
    "        if mayor:\n",
    "            mayorf=0\n",
    "        else:\n",
    "            mayorf=len(lisn)    \n",
    "        for i,v in enumerate(lisn):\n",
    "            c=0\n",
    "            for x in lisn:\n",
    "                if v==x:\n",
    "                    c=c+1\n",
    "            if mayor:\n",
    "                if c > mayorf:\n",
    "                    mayorf=c\n",
    "                    imf=i\n",
    "            else:\n",
    "                if c < mayorf:\n",
    "                    mayorf=c\n",
    "                    imf=i\n",
    "        return lisn[imf], mayorf\n",
    "\n",
    "    def convierte(self, origen, destino):\n",
    "        for x in self.lista:\n",
    "            print(f\"{x} grados {origen} corresponden a {self.__convierte(x,origen, destino)} grados {destino}\")\n",
    "\n",
    "    def __convierte(self, valor,origen, destino):\n",
    "        if origen!=\"C\" and origen!=\"F\" and origen!=\"K\":\n",
    "            return None\n",
    "        if destino!=\"C\" and destino!=\"F\" and destino!=\"K\":\n",
    "            return None\n",
    "        if origen==\"C\" and destino==\"F\":\n",
    "            r=valor*9/5+32\n",
    "        if origen==\"C\" and destino==\"K\":   \n",
    "            r=valor+273.15\n",
    "        if origen==\"F\" and destino==\"C\":\n",
    "            r=(valor-32)*5/9\n",
    "        if origen==\"F\" and destino==\"K\":  \n",
    "            r=(valor-32)*5/9+273.15\n",
    "        if origen==\"K\" and destino==\"C\":\n",
    "            r=valor-273.15\n",
    "        if origen==\"K\" and destino==\"F\":                  \n",
    "            r=(valor-273.15)*9/5+32\n",
    "        if origen==destino:\n",
    "            r=valor    \n",
    "        return(r)   \n",
    "    \n",
    "    def factorial(self):\n",
    "        for x in self.lista:\n",
    "            print(f\"{self.__factorial(x)} es factorial de {x}\")\n",
    "\n",
    "    def __factorial(self, num):\n",
    "        if type(num) != int or num<0:\n",
    "            return None\n",
    "        f=num\n",
    "        if f==0:\n",
    "            f=1\n",
    "        while num>1:\n",
    "            num=num-1\n",
    "            f=f*num\n",
    "        return f"
   ]
  },
  {
   "cell_type": "code",
   "execution_count": 15,
   "metadata": {},
   "outputs": [],
   "source": [
    "h = Herramientas([3,5,7])"
   ]
  },
  {
   "cell_type": "code",
   "execution_count": 16,
   "metadata": {},
   "outputs": [
    {
     "name": "stdout",
     "output_type": "stream",
     "text": [
      "3 es primo\n",
      "5 es primo\n",
      "7 es primo\n"
     ]
    }
   ],
   "source": [
    "h.test_primo()\n"
   ]
  },
  {
   "cell_type": "code",
   "execution_count": 18,
   "metadata": {},
   "outputs": [
    {
     "name": "stdout",
     "output_type": "stream",
     "text": [
      "6 es factorial de 3\n",
      "120 es factorial de 5\n",
      "5040 es factorial de 7\n"
     ]
    }
   ],
   "source": [
    "h.factorial()\n"
   ]
  },
  {
   "cell_type": "code",
   "execution_count": 20,
   "metadata": {},
   "outputs": [
    {
     "name": "stdout",
     "output_type": "stream",
     "text": [
      "3 grados C corresponden a 37.4 grados F\n",
      "5 grados C corresponden a 41.0 grados F\n",
      "7 grados C corresponden a 44.6 grados F\n"
     ]
    }
   ],
   "source": [
    "h.convierte(\"C\",\"F\")"
   ]
  },
  {
   "attachments": {},
   "cell_type": "markdown",
   "metadata": {},
   "source": [
    "8) Crear un archivo .py aparte y ubicar allí la clase generada en el punto anterior. Luego realizar la importación del módulo y probar alguna de sus funciones"
   ]
  },
  {
   "cell_type": "code",
   "execution_count": null,
   "metadata": {},
   "outputs": [],
   "source": []
  }
 ],
 "metadata": {
  "interpreter": {
   "hash": "c85384e4cb51c8b72350f3a8712cc8351fdc3955e32a27f9b60c6242ab125f01"
  },
  "kernelspec": {
   "display_name": "Python 3 (ipykernel)",
   "language": "python",
   "name": "python3"
  },
  "language_info": {
   "codemirror_mode": {
    "name": "ipython",
    "version": 3
   },
   "file_extension": ".py",
   "mimetype": "text/x-python",
   "name": "python",
   "nbconvert_exporter": "python",
   "pygments_lexer": "ipython3",
   "version": "3.10.11"
  }
 },
 "nbformat": 4,
 "nbformat_minor": 4
}

{
 "cells": [
  {
   "cell_type": "markdown",
   "metadata": {},
   "source": [
    "Crear un script con el nombre \"clase09_ej1.py\" que reciba 3 parametros a elección, verificando que sean exactamente esa cantidad, y muestre como salida los parámetros recibidos"
   ]
  },
  {
   "cell_type": "code",
   "execution_count": 1,
   "metadata": {},
   "outputs": [],
   "source": [
    "a=open(\"hm09ej1.py\",\"w\")\n",
    "a.write(\"import sys\\n\")\n",
    "a.close()\n"
   ]
  },
  {
   "cell_type": "code",
   "execution_count": 3,
   "metadata": {},
   "outputs": [
    {
     "data": {
      "text/plain": [
       "49"
      ]
     },
     "execution_count": 3,
     "metadata": {},
     "output_type": "execute_result"
    }
   ],
   "source": [
    "\n",
    "a=open(\"hm09ej1.py\",\"a\")\n",
    "a.write(\"if len(sys.argv) == 4:\\n\")\n",
    "a.write('    print(\"El primer parámetro es:\",sys.argv[1])\\n')\n",
    "a.write('    print(\"El segundo parámetro es:\",sys.argv[1])\\n')\n",
    "a.write('    print(\"El tercer parámetro es:\",sys.argv[1])\\n')\n",
    "\n",
    "\n",
    "# else:\n",
    "#     print(\"ERROR: Introdujo una cantidad de argumentos distinta de tres (3)\")\n",
    "#     print('Ejemplo: clase09_ej1.py 1 2 3')"
   ]
  },
  {
   "cell_type": "code",
   "execution_count": 4,
   "metadata": {},
   "outputs": [],
   "source": [
    "a=open(\"ejemplo2.py\",\"w\")\n",
    "a.close()"
   ]
  }
 ],
 "metadata": {
  "kernelspec": {
   "display_name": "Python 3",
   "language": "python",
   "name": "python3"
  },
  "language_info": {
   "codemirror_mode": {
    "name": "ipython",
    "version": 3
   },
   "file_extension": ".py",
   "mimetype": "text/x-python",
   "name": "python",
   "nbconvert_exporter": "python",
   "pygments_lexer": "ipython3",
   "version": "3.10.11"
  },
  "orig_nbformat": 4
 },
 "nbformat": 4,
 "nbformat_minor": 2
}

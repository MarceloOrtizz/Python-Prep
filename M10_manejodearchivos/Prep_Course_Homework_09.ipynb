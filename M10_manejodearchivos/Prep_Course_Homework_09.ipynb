{
 "cells": [
  {
   "cell_type": "markdown",
   "metadata": {},
   "source": [
    "Crear un script con el nombre \"clase09_ej1.py\" que reciba 3 parametros a elección, verificando que sean exactamente esa cantidad, y muestre como salida los parámetros recibidos"
   ]
  },
  {
   "cell_type": "code",
   "execution_count": 1,
   "metadata": {},
   "outputs": [],
   "source": [
    "a=open(\"hm09ej1.py\",\"w\")\n",
    "a.write(\"import sys\\n\")\n",
    "a.close()\n"
   ]
  },
  {
   "cell_type": "code",
   "execution_count": 3,
   "metadata": {},
   "outputs": [
    {
     "data": {
      "text/plain": [
       "49"
      ]
     },
     "execution_count": 3,
     "metadata": {},
     "output_type": "execute_result"
    }
   ],
   "source": [
    "\n",
    "a=open(\"hm09ej1.py\",\"a\")\n",
    "a.write(\"if len(sys.argv) == 4:\\n\")\n",
    "a.write('    print(\"El primer parámetro es:\",sys.argv[1])\\n')\n",
    "a.write('    print(\"El segundo parámetro es:\",sys.argv[1])\\n')\n",
    "a.write('    print(\"El tercer parámetro es:\",sys.argv[1])\\n')\n",
    "\n",
    "\n",
    "# else:\n",
    "#     print(\"ERROR: Introdujo una cantidad de argumentos distinta de tres (3)\")\n",
    "#     print('Ejemplo: clase09_ej1.py 1 2 3')"
   ]
  },
  {
   "cell_type": "code",
   "execution_count": 4,
   "metadata": {},
   "outputs": [],
   "source": [
    "a=open(\"ejemplo2.py\",\"w\")\n",
    "a.close()"
   ]
  },
  {
   "cell_type": "code",
   "execution_count": 2,
   "metadata": {},
   "outputs": [],
   "source": [
    "import os\n",
    "lista_carpetas=os.listdir(\"./\")\n"
   ]
  },
  {
   "cell_type": "code",
   "execution_count": 4,
   "metadata": {},
   "outputs": [
    {
     "name": "stdout",
     "output_type": "stream",
     "text": [
      "clase06_ej2.csv\n",
      "clase09_ej1.py\n",
      "clase09_ej2.csv\n",
      "clase09_ej2.py\n",
      "clase09_montañas_altas\n",
      "colores.txt\n",
      "ejemplo2.py\n",
      "ejemplo_parametros.py\n",
      "hm09ej1.py\n",
      "hola.py\n",
      "Prep_Course_Homework_09-Resuelto.ipynb\n",
      "Prep_Course_Homework_09-Resuelto.py\n",
      "Prep_Course_Homework_09.ipynb\n",
      "Prep_Course_Homework_09.md\n",
      "prueba.py\n",
      "README.md\n",
      "unejemplo.txt\n",
      "__pycache__\n"
     ]
    }
   ],
   "source": [
    "#print(lista_carpetas)\n",
    "for i in lista_carpetas:\n",
    "    print(i)"
   ]
  },
  {
   "cell_type": "code",
   "execution_count": null,
   "metadata": {},
   "outputs": [],
   "source": []
  },
  {
   "cell_type": "code",
   "execution_count": 5,
   "metadata": {},
   "outputs": [
    {
     "data": {
      "text/plain": [
       "'c:\\\\Users\\\\Marcelo\\\\Documents\\\\Henry\\\\Python-Prep\\\\M10_manejodearchivos'"
      ]
     },
     "execution_count": 5,
     "metadata": {},
     "output_type": "execute_result"
    }
   ],
   "source": [
    "os.getcwd()"
   ]
  },
  {
   "cell_type": "code",
   "execution_count": 1,
   "metadata": {},
   "outputs": [
    {
     "name": "stdout",
     "output_type": "stream",
     "text": [
      "Ahora = 2023-07-19 16:24:53.209121\n",
      "Fecha fija = 2020-05-10 00:00:00\n",
      "objeto datetime = 2022-05-10 12:30:00\n",
      "timestamp = 1652196600.0\n",
      "fecha hora = 2022-05-10 12:30:00\n"
     ]
    }
   ],
   "source": [
    "import datetime\n",
    "\n",
    "x = datetime.datetime.now()\n",
    "print(\"Ahora =\",x)\n",
    "x = datetime.datetime(2020, 5, 10)\n",
    "print(\"Fecha fija =\",x)\n",
    "\n",
    "fecha_hora = '2022-05-10 12:30:00.23555'\n",
    "objeto_datetime = datetime.datetime.strptime(fecha_hora, '%Y-%m-%d %H:%M:%S')\n",
    "marca_de_tiempo = datetime.datetime.timestamp(objeto_datetime)\n",
    "\n"
   ]
  },
  {
   "cell_type": "code",
   "execution_count": 12,
   "metadata": {},
   "outputs": [
    {
     "ename": "TypeError",
     "evalue": "descriptor 'timestamp' for 'datetime.datetime' objects doesn't apply to a 'str' object",
     "output_type": "error",
     "traceback": [
      "\u001b[1;31m---------------------------------------------------------------------------\u001b[0m",
      "\u001b[1;31mTypeError\u001b[0m                                 Traceback (most recent call last)",
      "Cell \u001b[1;32mIn[12], line 3\u001b[0m\n\u001b[0;32m      1\u001b[0m x \u001b[39m=\u001b[39m \u001b[39m'\u001b[39m\u001b[39m2023-07-19 17:00:00\u001b[39m\u001b[39m'\u001b[39m\n\u001b[1;32m----> 3\u001b[0m marca_de_tiempo \u001b[39m=\u001b[39m datetime\u001b[39m.\u001b[39;49mdatetime\u001b[39m.\u001b[39;49mtimestamp(x)\n\u001b[0;32m      4\u001b[0m \u001b[39mprint\u001b[39m(\u001b[39m\"\u001b[39m\u001b[39mtimestamp =\u001b[39m\u001b[39m\"\u001b[39m, marca_de_tiempo)\n",
      "\u001b[1;31mTypeError\u001b[0m: descriptor 'timestamp' for 'datetime.datetime' objects doesn't apply to a 'str' object"
     ]
    }
   ],
   "source": [
    "\n",
    "x = '2023-07-19 17:00:00'\n",
    "\n",
    "marca_de_tiempo = datetime.datetime.timestamp(x)\n",
    "print(\"timestamp =\", marca_de_tiempo)"
   ]
  },
  {
   "cell_type": "code",
   "execution_count": 13,
   "metadata": {},
   "outputs": [
    {
     "name": "stdout",
     "output_type": "stream",
     "text": [
      "1689795621\n"
     ]
    }
   ],
   "source": [
    "x = datetime.datetime.now()\n",
    "x = int(datetime.datetime.timestamp(x))\n",
    "print(x)"
   ]
  },
  {
   "cell_type": "code",
   "execution_count": 19,
   "metadata": {},
   "outputs": [
    {
     "name": "stdout",
     "output_type": "stream",
     "text": [
      "<class 'datetime.datetime'>\n",
      "<class 'float'>\n",
      "1689797428.255422\n",
      "1689797428\n",
      "<class 'int'>\n"
     ]
    }
   ],
   "source": [
    "x = datetime.datetime.now()\n",
    "print(type(x))\n",
    "x = (datetime.datetime.timestamp(x))\n",
    "print(type(x))\n",
    "print(x)\n",
    "print(int(x))\n",
    "print(type(int(x)))\n"
   ]
  },
  {
   "cell_type": "markdown",
   "metadata": {},
   "source": [
    "Crear un archivo a partir de los datos presentes en el diccionario provisto. El cual debe contener en la primera fila el nombre de las claves y luego cada línea los elementos i-ésimos de las listas de valores contiguos y separados por coma ','. Este archivo debe llamarse clase09_ej3.csv\n",
    "\n",
    "nombre orden cordillera ...\n",
    "everst, 1, Himalaya, Nepal, 8849\n",
    "\n"
   ]
  },
  {
   "cell_type": "code",
   "execution_count": 1,
   "metadata": {},
   "outputs": [],
   "source": [
    "m = {'nombre':[  'Everest','K2','Kanchenjunga','Lhotse','Makalu',\n",
    "                        'Cho Oyu','Dhaulagiri','Manaslu','Nanga Parbat','Annapurna I'],\n",
    "            'orden':[1,2,3,4,5,6,7,8,9,10],\n",
    "            'cordillera':['Himalaya','Karakórum','Himalaya','Himalaya','Himalaya'\n",
    "                        ,'Himalaya','Himalaya','Himalaya','Karakórum','Himalaya'],\n",
    "            'pais': ['Nepal','Pakistán','Nepal','Nepal','Nepal','Nepal','Nepal','Nepal',\n",
    "                    'Pakistán','Nepal'],\n",
    "            'altura':[8849,8611,8586,8516,8485,8188,8167,8163,8125,8091]}"
   ]
  },
  {
   "cell_type": "code",
   "execution_count": 2,
   "metadata": {},
   "outputs": [],
   "source": [
    "\n",
    "c=0\n",
    "guarda=\"\"\n",
    "for i in m.keys():\n",
    "    c=c+1\n",
    "    if c>1:\n",
    "        guarda=guarda+\", \"+i\n",
    "    else:\n",
    "        guarda=i\n",
    "a=open(\"am.csv\",\"a\")\n",
    "a.write(guarda+\"\\n\")\n",
    "a.close()\n"
   ]
  },
  {
   "cell_type": "code",
   "execution_count": 3,
   "metadata": {},
   "outputs": [
    {
     "name": "stdout",
     "output_type": "stream",
     "text": [
      "<zip object at 0x000001EE89CE9900>\n",
      "0\n",
      "('nombre',)\n",
      "1\n",
      "('orden',)\n",
      "2\n",
      "('cordillera',)\n",
      "3\n",
      "('pais',)\n",
      "4\n",
      "('altura',)\n"
     ]
    }
   ],
   "source": [
    "zzz=zip(m)\n",
    "print(zzz)\n",
    "for i,x in enumerate(zzz):\n",
    "    print(i)\n",
    "    print(x)\n",
    "    "
   ]
  },
  {
   "cell_type": "code",
   "execution_count": 22,
   "metadata": {},
   "outputs": [
    {
     "name": "stdout",
     "output_type": "stream",
     "text": [
      "[8849, 8611, 8586, 8516, 8485, 8188, 8167, 8163, 8125, 8091]\n",
      "8091\n"
     ]
    }
   ],
   "source": [
    "lista_nombre=m[\"altura\"]\n",
    "print(lista_nombre)\n",
    "\n",
    "print(m[\"altura\"][9])"
   ]
  },
  {
   "cell_type": "code",
   "execution_count": 32,
   "metadata": {},
   "outputs": [],
   "source": [
    "a=open(\"am.csv\",\"a\")\n",
    "for i in range(0,10):\n",
    "    cadena=m[\"nombre\"][i]+\", \"+str(m[\"orden\"][i])+\", \"+m[\"cordillera\"][i]+\", \"+m[\"pais\"][i]+\", \"+str(m[\"altura\"][i])\n",
    "    #print(cadena)\n",
    "    a.write(cadena+\"\\n\")\n",
    "a.close()    \n",
    "\n"
   ]
  },
  {
   "cell_type": "code",
   "execution_count": 40,
   "metadata": {},
   "outputs": [
    {
     "name": "stdout",
     "output_type": "stream",
     "text": [
      "410 bytes\n",
      "0.4 kilo bytes\n",
      "0.00039 mega bytes\n"
     ]
    }
   ],
   "source": [
    "import os\n",
    "print(str(round(os.path.getsize('am.csv'),2)),'bytes')\n",
    "print(str(round(os.path.getsize('am.csv')/1024,2)),'kilo bytes')\n",
    "print(str(round(os.path.getsize('am.csv')/1024/1024,5)),'mega bytes')\n"
   ]
  },
  {
   "cell_type": "code",
   "execution_count": 42,
   "metadata": {},
   "outputs": [
    {
     "name": "stdout",
     "output_type": "stream",
     "text": [
      "410\n"
     ]
    }
   ],
   "source": [
    "print(str(os.path.getsize('am.csv')))"
   ]
  },
  {
   "cell_type": "code",
   "execution_count": 44,
   "metadata": {},
   "outputs": [],
   "source": [
    "os.makedirs('clase09_ma')"
   ]
  },
  {
   "cell_type": "code",
   "execution_count": 45,
   "metadata": {},
   "outputs": [
    {
     "data": {
      "text/plain": [
       "0"
      ]
     },
     "execution_count": 45,
     "metadata": {},
     "output_type": "execute_result"
    }
   ],
   "source": [
    "os.system('copy am.csv clase09_ma')"
   ]
  },
  {
   "cell_type": "code",
   "execution_count": 46,
   "metadata": {},
   "outputs": [
    {
     "data": {
      "text/plain": [
       "['am.csv']"
      ]
     },
     "execution_count": 46,
     "metadata": {},
     "output_type": "execute_result"
    }
   ],
   "source": [
    "os.listdir('./clase09_ma')"
   ]
  },
  {
   "cell_type": "code",
   "execution_count": 47,
   "metadata": {},
   "outputs": [
    {
     "data": {
      "text/plain": [
       "['am.csv',\n",
       " 'clase06_ej2.csv',\n",
       " 'clase09_ej1.py',\n",
       " 'clase09_ej2.csv',\n",
       " 'clase09_ej2.py',\n",
       " 'clase09_ma',\n",
       " 'clase09_montañas_altas',\n",
       " 'colores.txt',\n",
       " 'ejemplo2.py',\n",
       " 'ejemplo_parametros.py',\n",
       " 'hm09ej1.py',\n",
       " 'hola.py',\n",
       " 'Prep_Course_Homework_09-Resuelto.ipynb',\n",
       " 'Prep_Course_Homework_09-Resuelto.py',\n",
       " 'Prep_Course_Homework_09.ipynb',\n",
       " 'Prep_Course_Homework_09.md',\n",
       " 'prueba.py',\n",
       " 'README.md',\n",
       " 'unejemplo.txt',\n",
       " '__pycache__']"
      ]
     },
     "execution_count": 47,
     "metadata": {},
     "output_type": "execute_result"
    }
   ],
   "source": [
    "os.listdir('./')"
   ]
  },
  {
   "cell_type": "code",
   "execution_count": 51,
   "metadata": {},
   "outputs": [],
   "source": [
    "la=os.listdir()"
   ]
  },
  {
   "cell_type": "code",
   "execution_count": 58,
   "metadata": {},
   "outputs": [
    {
     "name": "stdout",
     "output_type": "stream",
     "text": [
      "am.csv: 410 bytes\n",
      "clase06_ej2.csv: 0 bytes\n",
      "clase09_ej1.py: 390 bytes\n",
      "clase09_ej2.csv: 811 bytes\n",
      "clase09_ej2.py: 795 bytes\n",
      "clase09_ma: 0 bytes\n",
      "clase09_montañas_altas: 0 bytes\n",
      "colores.txt: 93 bytes\n",
      "ejemplo2.py: 376 bytes\n",
      "ejemplo_parametros.py: 501 bytes\n",
      "hm09ej1.py: 428 bytes\n",
      "hola.py: 208 bytes\n",
      "Prep_Course_Homework_09-Resuelto.ipynb: 13797 bytes\n",
      "Prep_Course_Homework_09-Resuelto.py: 3361 bytes\n",
      "Prep_Course_Homework_09.ipynb: 12887 bytes\n",
      "Prep_Course_Homework_09.md: 2382 bytes\n",
      "prueba.py: 135 bytes\n",
      "README.md: 7801 bytes\n",
      "unejemplo.txt: 44 bytes\n",
      "__pycache__: 0 bytes\n"
     ]
    }
   ],
   "source": [
    "for i in la:\n",
    "    print(i+\": \"+(str(os.path.getsize(i)))+\" bytes\")\n",
    "    "
   ]
  },
  {
   "cell_type": "code",
   "execution_count": 1,
   "metadata": {},
   "outputs": [],
   "source": [
    "import numpy as np\n",
    "v=np.arange(5)\n"
   ]
  },
  {
   "cell_type": "code",
   "execution_count": 3,
   "metadata": {},
   "outputs": [
    {
     "name": "stdout",
     "output_type": "stream",
     "text": [
      "[0 1 2 3 4]\n",
      "0\n",
      "1\n",
      "2\n",
      "3\n",
      "4\n"
     ]
    }
   ],
   "source": [
    "print(v)\n",
    "for i in v:\n",
    "    print(i)"
   ]
  },
  {
   "cell_type": "code",
   "execution_count": 24,
   "metadata": {},
   "outputs": [],
   "source": [
    "m16=np.arange(100,116).reshape(8,2)"
   ]
  },
  {
   "cell_type": "code",
   "execution_count": 25,
   "metadata": {},
   "outputs": [
    {
     "name": "stdout",
     "output_type": "stream",
     "text": [
      "[[100 101]\n",
      " [102 103]\n",
      " [104 105]\n",
      " [106 107]\n",
      " [108 109]\n",
      " [110 111]\n",
      " [112 113]\n",
      " [114 115]]\n"
     ]
    }
   ],
   "source": [
    "print(m16)"
   ]
  },
  {
   "cell_type": "code",
   "execution_count": 22,
   "metadata": {},
   "outputs": [
    {
     "name": "stdout",
     "output_type": "stream",
     "text": [
      "[[[ 0  1  2  3]\n",
      "  [ 4  5  6  7]\n",
      "  [ 8  9 10 11]]\n",
      "\n",
      " [[12 13 14 15]\n",
      "  [16 17 18 19]\n",
      "  [20 21 22 23]]]\n"
     ]
    }
   ],
   "source": [
    "t=np.arange(24).reshape(2,3,4)\n",
    "print(t)"
   ]
  },
  {
   "cell_type": "code",
   "execution_count": 23,
   "metadata": {},
   "outputs": [
    {
     "name": "stdout",
     "output_type": "stream",
     "text": [
      "[[[ 0  1  2  3]\n",
      "  [ 4  5  6  7]\n",
      "  [ 8  9 10 11]]\n",
      "\n",
      " [[12 13 14 15]\n",
      "  [16 17 18 19]\n",
      "  [20 21 22 23]]]\n"
     ]
    }
   ],
   "source": [
    "masqueuntensor=np.arange(240).reshape(2,3,4,10)\n",
    "print(t)"
   ]
  },
  {
   "cell_type": "code",
   "execution_count": 7,
   "metadata": {},
   "outputs": [],
   "source": [
    "import numpy as np"
   ]
  },
  {
   "cell_type": "code",
   "execution_count": 8,
   "metadata": {},
   "outputs": [
    {
     "name": "stdout",
     "output_type": "stream",
     "text": [
      "[ 2  5  6 23]\n",
      "[[2 4]\n",
      " [6 8]]\n",
      "[0 1 2 3 4]\n"
     ]
    }
   ],
   "source": [
    "my_first_vector = np.array([2, 5, 6, 23])\n",
    "print(my_first_vector)\n",
    "\n",
    "\n",
    "my_first_matrix = np.array([[2, 4,], [6, 8]])\n",
    "print(my_first_matrix)\n",
    "\n",
    "my_list = [0, 1, 2, 3, 4]\n",
    "print(np.array(my_list))\n"
   ]
  },
  {
   "cell_type": "code",
   "execution_count": 17,
   "metadata": {},
   "outputs": [
    {
     "name": "stdout",
     "output_type": "stream",
     "text": [
      "[0 1 2 3 4 5 6 7 8 9]\n",
      "[5 6 7 8 9]\n",
      "[5 7 9]\n"
     ]
    }
   ],
   "source": [
    "print(np.arange(10))\n",
    "print(np.arange(5,10))\n",
    "print(np.arange(5,10,2))"
   ]
  },
  {
   "cell_type": "code",
   "execution_count": 30,
   "metadata": {},
   "outputs": [
    {
     "name": "stdout",
     "output_type": "stream",
     "text": [
      "[  0.  50. 100.]\n"
     ]
    }
   ],
   "source": [
    "print(np.linspace(0,100,3))"
   ]
  },
  {
   "cell_type": "code",
   "execution_count": 31,
   "metadata": {},
   "outputs": [
    {
     "name": "stdout",
     "output_type": "stream",
     "text": [
      "[[0.70879561 0.35307465]\n",
      " [0.67636755 0.69115262]]\n"
     ]
    }
   ],
   "source": [
    "print(np.random.rand(2, 2))"
   ]
  },
  {
   "cell_type": "code",
   "execution_count": 77,
   "metadata": {},
   "outputs": [
    {
     "name": "stdout",
     "output_type": "stream",
     "text": [
      "[0.76269711 0.39710524 0.88695067 0.2801527  0.51147185]\n"
     ]
    }
   ],
   "source": [
    "print(np.random.rand(5))"
   ]
  },
  {
   "cell_type": "code",
   "execution_count": 80,
   "metadata": {},
   "outputs": [
    {
     "name": "stdout",
     "output_type": "stream",
     "text": [
      "[9.87488768 5.29109217 5.53136788 6.98176991 9.26439124 9.92009654\n",
      " 9.28303024 5.80549219 5.08190838 9.85646687]\n"
     ]
    }
   ],
   "source": [
    "print(np.random.uniform(5, 10, 10))"
   ]
  },
  {
   "cell_type": "code",
   "execution_count": 97,
   "metadata": {},
   "outputs": [
    {
     "name": "stdout",
     "output_type": "stream",
     "text": [
      "[56.86807831 73.72616074 49.06492536 53.87434452 58.27660543 46.50249288\n",
      " 53.53047212 51.07719581 51.43098291 49.05264221]\n"
     ]
    }
   ],
   "source": [
    "print(np.random.normal(50, 10, 10))"
   ]
  },
  {
   "cell_type": "code",
   "execution_count": 102,
   "metadata": {},
   "outputs": [
    {
     "name": "stdout",
     "output_type": "stream",
     "text": [
      "[2 2 1 1 1 1 1 2 1 1 2 1 1 2 2 1 2 2 1 2 2 2 2 1 2 1 2 1 1 2 2 1 1 1 1 1 1\n",
      " 2 1 2 2 1 1 2 2 1 1 1 1 1 1 2 1 2 2 1 2 2 2 1 2 1 2 2 1 2 2 2 2 1 2 2 2 1\n",
      " 1 2 2 2 2 1 1 1 1 1 2 1 2 2 2 2 2 1 2 1 2 2 1 1 2 2]\n"
     ]
    }
   ],
   "source": [
    "print(np.random.randint(1,3,100))"
   ]
  },
  {
   "cell_type": "code",
   "execution_count": 115,
   "metadata": {},
   "outputs": [
    {
     "name": "stdout",
     "output_type": "stream",
     "text": [
      "[11 12 13 14]\n",
      "int32\n",
      "[[11 12]\n",
      " [13 14]]\n",
      "int32\n",
      "int32\n",
      "int32\n"
     ]
    }
   ],
   "source": [
    "a=np.arange(11,15)\n",
    "print(a)\n",
    "print(a.dtype)\n",
    "b=np.reshape(a, [2,2])\n",
    "print(b)\n",
    "print(b.dtype)\n",
    "c=np.arange(100)\n",
    "print(c.dtype)\n",
    "f=np.reshape(c,[10,10])\n",
    "print(f.dtype)"
   ]
  },
  {
   "cell_type": "code",
   "execution_count": 120,
   "metadata": {},
   "outputs": [
    {
     "name": "stdout",
     "output_type": "stream",
     "text": [
      "[1 2 3 4 5 6 7 8 9]\n",
      "[[1 2 3]\n",
      " [4 5 6]\n",
      " [7 8 9]]\n",
      "int32\n"
     ]
    }
   ],
   "source": [
    "a = np.arange(1,10)\n",
    "print(a)\n",
    "B = np.reshape(a, [3,3])\n",
    "print(B)\n",
    "print(B.dtype)\n"
   ]
  },
  {
   "cell_type": "code",
   "execution_count": 121,
   "metadata": {},
   "outputs": [
    {
     "name": "stdout",
     "output_type": "stream",
     "text": [
      "[[1 2 3]\n",
      " [4 5 6]\n",
      " [7 8 9]]\n"
     ]
    }
   ],
   "source": [
    "print(B)"
   ]
  },
  {
   "cell_type": "code",
   "execution_count": 122,
   "metadata": {},
   "outputs": [
    {
     "name": "stdout",
     "output_type": "stream",
     "text": [
      "[1 2 3 4 5 6 7 8 9]\n"
     ]
    }
   ],
   "source": [
    "vec=B.flatten()\n",
    "print(vec)"
   ]
  },
  {
   "cell_type": "code",
   "execution_count": 144,
   "metadata": {},
   "outputs": [
    {
     "name": "stdout",
     "output_type": "stream",
     "text": [
      "[[0 1 2]\n",
      " [3 4 5]\n",
      " [6 7 8]]\n",
      "[[1 2]\n",
      " [4 5]\n",
      " [7 8]]\n",
      "[[0 1]\n",
      " [3 4]]\n",
      "[[0 1 2]\n",
      " [3 4 5]\n",
      " [6 7 8]]\n"
     ]
    }
   ],
   "source": [
    "otra = np.arange(9).reshape(3, 3)\n",
    "print(otra)\n",
    "# print(otra[1, 2])\n",
    "#print(otra[-1, -1])\n",
    "#print(otra[:, 1])\n",
    "print(otra[:, 1:])\n",
    "print(otra[0:2, 0:2])\n",
    "print(otra[:, :])"
   ]
  },
  {
   "cell_type": "code",
   "execution_count": 4,
   "metadata": {},
   "outputs": [],
   "source": [
    "import numpy as np"
   ]
  },
  {
   "cell_type": "code",
   "execution_count": 19,
   "metadata": {},
   "outputs": [
    {
     "name": "stdout",
     "output_type": "stream",
     "text": [
      "[[1. 1. 1.]\n",
      " [1. 1. 1.]\n",
      " [1. 1. 1.]]\n"
     ]
    }
   ],
   "source": [
    "B = np.full(4, 3,float)\n",
    "C = np.ones((3,3))\n",
    "\n",
    "\n",
    "print(C)\n",
    "\n",
    "\n"
   ]
  },
  {
   "cell_type": "code",
   "execution_count": 16,
   "metadata": {},
   "outputs": [
    {
     "name": "stdout",
     "output_type": "stream",
     "text": [
      "[[2 3]\n",
      " [2 3]\n",
      " [2 3]]\n",
      "[[1 6 5 2 7]\n",
      " [1 2 7 0 9]]\n",
      "[[ 5 18 31  4 41]\n",
      " [ 5 18 31  4 41]\n",
      " [ 5 18 31  4 41]]\n",
      "3\n"
     ]
    }
   ],
   "source": [
    "a = np.array([[2,3],[2,3],[2,3]])\n",
    "print(a)\n",
    "b = np.array([[1,6,5,2,7],[1,2,7,0,9]])\n",
    "print(b)\n",
    "print(np.matmul(a,b))\n",
    "\n",
    "\n",
    "print(a[0][1])\n",
    "\n"
   ]
  },
  {
   "cell_type": "code",
   "execution_count": 22,
   "metadata": {},
   "outputs": [
    {
     "name": "stdout",
     "output_type": "stream",
     "text": [
      "<class 'numpy.ndarray'>\n",
      "<class 'numpy.ndarray'>\n",
      "<class 'numpy.matrix'>\n"
     ]
    }
   ],
   "source": [
    "a=(np.array([[1,2,3]]))\n",
    "print(type(a))\n",
    "b=(np.array([1,2,3]))\n",
    "print(type(b))\n",
    "m=(np.mat([1,2,3]))\n",
    "print(type(m))\n"
   ]
  },
  {
   "cell_type": "code",
   "execution_count": 31,
   "metadata": {},
   "outputs": [
    {
     "name": "stdout",
     "output_type": "stream",
     "text": [
      "[[1 2 3]\n",
      " [4 5 6]]\n",
      "[[1 2 3]\n",
      " [4 5 6]]\n",
      "[1 4]\n",
      "<class 'numpy.ndarray'>\n",
      "[[1]\n",
      " [4]]\n",
      "<class 'numpy.matrix'>\n",
      "(2,)\n",
      "(2, 1)\n"
     ]
    }
   ],
   "source": [
    "a = np.array([[1,2,3],[4,5,6]])\n",
    "print(a)\n",
    "m = np.mat([(1,2,3),(4,5,6)])\n",
    "print(m)\n",
    "\n",
    "a1=(a[:, 0])\n",
    "print(a1)\n",
    "print(type(a1))\n",
    "\n",
    "m1=(m[:, 0])\n",
    "print(m1)\n",
    "print(type(m1))\n",
    "\n",
    "\n",
    "print(a[:, 0].shape)\n",
    "\n",
    "print(m[:, 0].shape)\n"
   ]
  },
  {
   "cell_type": "code",
   "execution_count": 34,
   "metadata": {},
   "outputs": [
    {
     "name": "stdout",
     "output_type": "stream",
     "text": [
      "73.1923076923077\n",
      "73.0\n",
      "2.572326554954764\n",
      "73.0\n"
     ]
    }
   ],
   "source": [
    "height_list = [74, 74, 72, 72, 73, 69, 69, 71, 76, 71, 73, 73, 74, 74, 69, 70, 73, 75, 78, 79, 76, 74, 76, 72, 71, 75]\n",
    "print(np.mean(height_list))\n",
    "\n",
    "print(np.median(height_list))\n",
    "\n",
    "print(np.std(height_list))\n",
    "\n",
    "print(np.percentile(height_list,50))\n"
   ]
  },
  {
   "cell_type": "code",
   "execution_count": 48,
   "metadata": {},
   "outputs": [
    {
     "name": "stdout",
     "output_type": "stream",
     "text": [
      "[0 1 2 3]\n",
      "[1 2 3 4]\n",
      "[ 1.          2.71828183  7.3890561  20.08553692]\n",
      "[0.         0.69314718 1.09861229 1.38629436]\n",
      "[0.         1.         1.41421356 1.73205081]\n",
      "[ True  True  True  True]\n"
     ]
    }
   ],
   "source": [
    "# Otras ufuncs interesantes\n",
    "a = np.arange(4)\n",
    "print(a)\n",
    "b = np.arange(1,5)\n",
    "print(b)\n",
    "\n",
    "display((np.exp(a)) )        # exponencial\n",
    "#array([  1.        ,   2.71828183,   7.3890561 ,  20.08553692])\n",
    "print(np.log(b))         # logaritmo natural\n",
    "#array([ 0.        ,  0.69314718,  1.09861229,  1.38629436])\n",
    "print(np.sqrt(a))        # raiz cuadrada\n",
    "#array([ 0.        ,  1.        ,  1.41421356,  1.73205081])\n",
    "print(np.greater(b,a))   # superior o igual punto a punto\n",
    "#array([False, False, False, False], dtype=bool)"
   ]
  },
  {
   "cell_type": "code",
   "execution_count": 41,
   "metadata": {},
   "outputs": [
    {
     "name": "stdout",
     "output_type": "stream",
     "text": [
      "3.000222178826843\n"
     ]
    }
   ],
   "source": [
    "print(np.log(20.09))"
   ]
  },
  {
   "cell_type": "code",
   "execution_count": 54,
   "metadata": {},
   "outputs": [
    {
     "name": "stdout",
     "output_type": "stream",
     "text": [
      "298 ms ± 3.48 ms per loop (mean ± std. dev. of 7 runs, 1 loop each)\n"
     ]
    }
   ],
   "source": [
    "%%timeit\n",
    "a = np.arange(1000000)\n",
    "b = np.zeros(1000000)\n",
    "i = 0\n",
    "for x in a:\n",
    "    b[i] = x+x\n",
    "    i+=1 \n",
    "#296 ms ± 40.5 ms per loop (mean ± std. dev. of 7 runs, 1 loop each)\n",
    "\n",
    "a = np.arange(1000000)\n",
    "b = np.zeros(1000000)\n",
    "b=a+a\n",
    "#3.36 ms ± 275 µs per loop (mean ± std. dev. of 7 runs, 100 loops each)"
   ]
  },
  {
   "cell_type": "code",
   "execution_count": 53,
   "metadata": {},
   "outputs": [
    {
     "name": "stdout",
     "output_type": "stream",
     "text": [
      "4.17 ms ± 134 µs per loop (mean ± std. dev. of 7 runs, 100 loops each)\n"
     ]
    }
   ],
   "source": [
    "%%timeit\n",
    "a = np.arange(1000000)\n",
    "b = np.zeros(1000000)\n",
    "b=a+a"
   ]
  },
  {
   "cell_type": "code",
   "execution_count": 59,
   "metadata": {},
   "outputs": [
    {
     "name": "stdout",
     "output_type": "stream",
     "text": [
      "[1 None 2 3]\n",
      "[ 1. nan  3.  4.]\n",
      "nan\n"
     ]
    }
   ],
   "source": [
    "val1 = np.array([1, None, 2, 3])\n",
    "print(val1)\n",
    "\n",
    "val2 = np.array([1, np.nan, 3, 4])\n",
    "print(val2)\n",
    "print(np.mean(val2))"
   ]
  },
  {
   "cell_type": "code",
   "execution_count": 78,
   "metadata": {},
   "outputs": [
    {
     "name": "stdout",
     "output_type": "stream",
     "text": [
      "[11 12 13 14]\n"
     ]
    }
   ],
   "source": [
    "a = np.arange(0,20).reshape(2,10)\n",
    "\n",
    "mascara = a>10\n",
    "b=a[mascara]\n",
    "\n",
    "zzz = b<15\n",
    "print(b[zzz])\n",
    "\n"
   ]
  },
  {
   "cell_type": "code",
   "execution_count": null,
   "metadata": {},
   "outputs": [],
   "source": []
  }
 ],
 "metadata": {
  "kernelspec": {
   "display_name": "Python 3",
   "language": "python",
   "name": "python3"
  },
  "language_info": {
   "codemirror_mode": {
    "name": "ipython",
    "version": 3
   },
   "file_extension": ".py",
   "mimetype": "text/x-python",
   "name": "python",
   "nbconvert_exporter": "python",
   "pygments_lexer": "ipython3",
   "version": "3.10.11"
  },
  "orig_nbformat": 4
 },
 "nbformat": 4,
 "nbformat_minor": 2
}

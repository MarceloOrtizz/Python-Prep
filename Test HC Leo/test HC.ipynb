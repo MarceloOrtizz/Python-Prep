{
 "cells": [
  {
   "attachments": {},
   "cell_type": "markdown",
   "metadata": {},
   "source": [
    "## Variables"
   ]
  },
  {
   "cell_type": "code",
   "execution_count": 52,
   "metadata": {},
   "outputs": [
    {
     "data": {
      "text/plain": [
       "0"
      ]
     },
     "execution_count": 52,
     "metadata": {},
     "output_type": "execute_result"
    }
   ],
   "source": [
    "0%2"
   ]
  },
  {
   "cell_type": "code",
   "execution_count": 45,
   "metadata": {},
   "outputs": [
    {
     "data": {
      "text/plain": [
       "NoneType"
      ]
     },
     "execution_count": 45,
     "metadata": {},
     "output_type": "execute_result"
    }
   ],
   "source": [
    "type(None)"
   ]
  },
  {
   "cell_type": "code",
   "execution_count": 2,
   "metadata": {},
   "outputs": [
    {
     "name": "stdout",
     "output_type": "stream",
     "text": [
      "111\n"
     ]
    }
   ],
   "source": [
    "\n",
    "'''\n",
    "Esta función recibe como argumento un número entero mayor ó igual a cero y lo devuelve en su \n",
    "representación binaria. Debe recibir y devolver un valor de tipo entero.\n",
    "En caso de que el parámetro no sea de tipo entero y mayor a -1 debe retornar nulo.\n",
    "Recibe un argumento:\n",
    "    numero: Será el número que se convertirá a binario.\n",
    "Ej:\n",
    "    NumeroBinario(12) debe retornar 1100\n",
    "    NumeroBinario(2) debe retornar 10\n",
    "    NumeroBinario(14) debe retornar 1110\n",
    "'''\n",
    "#Tu código aca:\n",
    "numero=7\n",
    "if type(numero)==int:\n",
    "    if numero>-1:\n",
    "        b=\"\"\n",
    "        while True:\n",
    "            dig=numero%2\n",
    "            numero=int(numero/2)\n",
    "            b=str(dig)+b\n",
    "            if numero==0:\n",
    "                break\n",
    "    else:\n",
    "        print(\"nada2\")\n",
    "else:\n",
    "    print(\"nada2\")\n",
    "print(int(b))\n",
    "\n"
   ]
  },
  {
   "cell_type": "code",
   "execution_count": 89,
   "metadata": {},
   "outputs": [
    {
     "name": "stdout",
     "output_type": "stream",
     "text": [
      "TRUE\n"
     ]
    }
   ],
   "source": [
    "'''\n",
    "La función debe recibir como argumentos el valor en cm de los lados de un triángulo \n",
    "(a y b son los catetos), y dado estos valores, retornar True si en efecto corresponden \n",
    "a un triángulo rectángulo, o False en caso contrario. Sólo se debe poder pasar valores \n",
    "enteros como argumentos de la función, caso contrario debe retornar nulo.\n",
    "EJ: trianguloRectangulo(3.5,3.5,2.4), debe retornar nulo\n",
    "EJ: trianguloRectangulo(3,3,3), debe retornar False\n",
    "EJ: trianguloRectangulo(3,4,5), debe retornar True\n",
    "'''\n",
    "\n",
    "a=0\n",
    "b=1\n",
    "c=1\n",
    "if type(a)==int and type(b)==int and type(c)==int:\n",
    "   #if a and b and c > 0:\n",
    "      if a**2 + b**2 == c**2:\n",
    "         print(\"TRUE\")\n",
    "      else:\n",
    "         print(\"FALSE\")\n",
    "   #else:\n",
    "      #print(\"FALSE\")\n",
    "else:\n",
    "   print(\"NULO\")\n",
    "\n"
   ]
  },
  {
   "cell_type": "code",
   "execution_count": null,
   "metadata": {},
   "outputs": [],
   "source": [
    "'''\n",
    "La función recibe como argumento una lista de números enteros, y debe retornar una lista\n",
    "con los siguientes parámetros:\n",
    "1.Los números que sean positivos y pares se deben dividir por 2, y el resultado expresado como entero \n",
    "(sin decimales, no redondeando, debe tomar sólo la parte entera de la división por 2).\n",
    "2.Los números negativos multiplicados por 2.\n",
    "3.Los que no cumplan los criterios anteriores deben quedar igual al valor original.\n",
    "4.Ordernar los números de mayor a menor.\n",
    "Ej: dividirMultiplicar([2,4,1,-3]): debe retornar: [2, 1, 1, -6]\n",
    "'''   \n",
    "lista=[8,-2,4,7,3,2,7,2]\n",
    "lf=[]\n",
    "for i in lista:\n",
    "    if i>=0:\n",
    "        if i%2==0:\n",
    "            lf.append(i/2)\n",
    "        else:\n",
    "            lf.append(i)    \n",
    "    if i<0:\n",
    "        lf.append(i*2)\n",
    "lf.sort(reverse=True)\n",
    "\n",
    "\n",
    "\n"
   ]
  },
  {
   "cell_type": "code",
   "execution_count": 5,
   "metadata": {},
   "outputs": [
    {
     "name": "stdout",
     "output_type": "stream",
     "text": [
      "54321\n",
      "12345\n"
     ]
    }
   ],
   "source": [
    "texto=\"12345\"\n",
    "otxet=\"\"\n",
    "otra=\"\"\n",
    "for i, c in enumerate(texto):\n",
    "    otxet=c+otxet #1   2+1=21    3+21=321    54321 \n",
    "    otra=otra+c     #12345\n",
    "print(otxet)\n",
    "print(otra)\n"
   ]
  },
  {
   "cell_type": "code",
   "execution_count": 19,
   "metadata": {},
   "outputs": [
    {
     "name": "stdout",
     "output_type": "stream",
     "text": [
      "{'multiplos3': [3, 6, 12], 'cuadrados': [9, 36, 49, 144], 'menores_promedio': [3, 6]}\n"
     ]
    }
   ],
   "source": [
    "#    La función recibe como argumento una lista de números enteros, y debe retornar un diccionario \n",
    "#    con tres claves, \"multiplos3\", 'cuadrados\", \"menores_promedio\".\n",
    "#    Para la clave \"multiplos3\", el valor debe ser una lista con los múltiplos de 3 de la lista original.\n",
    "#    Para la clave \"cuadrados\", el valor debe ser una lista con los valores de la lista original \n",
    "#    elevados al cuadrado.\n",
    "#    Para la clave \"menores_promedio\", el valor debe ser una lista con los valores \n",
    "#    menores al promedio de la lista original.\n",
    "#    EJ: crearDiccionario([3,6,7,12]): debe retornar: {'multiplos3': [3, 6, 12], \n",
    "#    'cuadrados': [9, 36, 49, 144], 'menores_promedio': [3, 6]}\n",
    "\n",
    "lista=[3,6,7,12]\n",
    "m3=[]\n",
    "e2=[]\n",
    "mp=[]\n",
    "dicc={}\n",
    "for i, v in enumerate(lista):\n",
    "    if (v%3)==0:\n",
    "        m3.append(v)\n",
    "    e2.append(v**2)\n",
    "    if (v<(sum(lista)/len(lista))):\n",
    "        mp.append(v)\n",
    "# print(m3)\n",
    "# print(e2)\n",
    "# print(mp)\n",
    "dicc[\"multiplos3\"]=m3\n",
    "dicc[\"cuadrados\"]=e2\n",
    "dicc[\"menores_promedio\"]=mp\n",
    "\n",
    "print(dicc)"
   ]
  },
  {
   "cell_type": "code",
   "execution_count": 25,
   "metadata": {},
   "outputs": [
    {
     "name": "stdout",
     "output_type": "stream",
     "text": [
      "False\n"
     ]
    }
   ],
   "source": [
    "txt = \"Algo asdf asdf\"\n",
    "x = txt.startswith(\"a\") #ojo tiene q ser exacto con may o min\n",
    "print(x)                #devuelve un booleano"
   ]
  },
  {
   "cell_type": "code",
   "execution_count": 14,
   "metadata": {},
   "outputs": [],
   "source": [
    "#    Dado el siguiente diccionario ciudades, la función debe retornar una lista de listas, donde cada \n",
    "#    elemento de la lista sea una lista con el par ['ciudad', población],\n",
    "#    pero sólo de las ciudades que comiencen con la letra 'B', y como último elemento \n",
    "#    de la lista el par ['promedio', promedio de población] con el promedio de población\n",
    "#    de las ciudades seleccionadas.\n",
    "#    Ej: Si se pidiera ciudades que comiencen con la letra 'S', debe devolver: [['São Paulo', 21048514], ['Santiago de Chile', 7112808],['promedio', 14080661.0]]\n",
    "\n",
    "#    ciudades = {\n",
    "#       'São Paulo': 21048514,\n",
    "#       'Buenos Aires': 14975587,\n",
    "#       'Río de Janeiro': 11902701,\n",
    "#       'Bogotá': 10777931,\n",
    "#       'Lima': 10479899,\n",
    "#       'Santiago de Chile': 7112808,\n",
    "#       'Belo Horizonte': 6006091,\n",
    "#       'Caracas': 5622798,\n",
    "#       'Brasília': 4291577\n",
    "#       }\n",
    "\n",
    "b=[]\n",
    "for "
   ]
  },
  {
   "cell_type": "code",
   "execution_count": 4,
   "metadata": {},
   "outputs": [
    {
     "name": "stdout",
     "output_type": "stream",
     "text": [
      "es capicua: False\n"
     ]
    }
   ],
   "source": [
    "numero=1\n",
    "c=True\n",
    "if type(numero)==int:\n",
    "    if (numero)>9:\n",
    "        numero=str(numero)\n",
    "        for i in range(len(numero)):\n",
    "            if numero[i]!=numero[len(numero)-i-1]:\n",
    "                c=False\n",
    "                break\n",
    "        #return c\n",
    "          \n",
    "    else:\n",
    "         c=False     \n",
    "else:\n",
    "    #return None\n",
    "    print(\"NO ES UN NUMERO ENTERO !!!\")  \n",
    "\n",
    "print(f\"es capicua: {c}\")  \n"
   ]
  },
  {
   "cell_type": "code",
   "execution_count": 11,
   "metadata": {},
   "outputs": [
    {
     "name": "stdout",
     "output_type": "stream",
     "text": [
      "<class 'str'>\n"
     ]
    }
   ],
   "source": [
    "numero=528\n",
    "numero=str(numero)\n",
    "print(type(numero))"
   ]
  },
  {
   "cell_type": "code",
   "execution_count": 2,
   "metadata": {},
   "outputs": [
    {
     "name": "stdout",
     "output_type": "stream",
     "text": [
      "En el índice 0 tenemos a '¡'\n",
      "En el índice 1 tenemos a 'H'\n",
      "En el índice 2 tenemos a 'o'\n",
      "En el índice 3 tenemos a 'l'\n",
      "En el índice 4 tenemos a 'a'\n",
      "En el índice 5 tenemos a ','\n",
      "En el índice 6 tenemos a ' '\n",
      "En el índice 7 tenemos a 'm'\n",
      "En el índice 8 tenemos a 'u'\n",
      "En el índice 9 tenemos a 'n'\n",
      "En el índice 10 tenemos a 'd'\n",
      "En el índice 11 tenemos a 'o'\n",
      "En el índice 12 tenemos a '!'\n"
     ]
    }
   ],
   "source": [
    "cadena = \"¡Hola, mundo!\"\n",
    "\n",
    "for indice in range(len(cadena)):\n",
    "    caracter = cadena[indice]\n",
    "    print(\"En el índice {} tenemos a '{}'\".format(indice, caracter))"
   ]
  },
  {
   "cell_type": "code",
   "execution_count": 68,
   "metadata": {},
   "outputs": [
    {
     "name": "stdout",
     "output_type": "stream",
     "text": [
      "Tiene que ser un numero entero\n"
     ]
    }
   ],
   "source": [
    "\n",
    "n=f=0\n",
    "if type(n)==int and n>=1:\n",
    "    while n>1:\n",
    "        f=f*(n-1)\n",
    "        n=n-1\n",
    "    print(f\"el factoriales: {f}\")   \n",
    "else:\n",
    "    #return None\n",
    "    print(\"Tiene que ser un numero entero\")    "
   ]
  },
  {
   "cell_type": "code",
   "execution_count": 3,
   "metadata": {},
   "outputs": [
    {
     "name": "stdout",
     "output_type": "stream",
     "text": [
      "NO ES PRIMOOOOOOOOOOOOOOOOO\n"
     ]
    }
   ],
   "source": [
    "#actual_primo=4.13\n",
    "#actual_primo=\"algo\"\n",
    "#actual_primo=-4\n",
    "#actual_primo=23\n",
    "actual_primo=77\n",
    "primo = True\n",
    "if type(actual_primo)==int:\n",
    "    if actual_primo>1:\n",
    "        primoo = True\n",
    "        for div in range(2, int(actual_primo**(1/2))+1):\n",
    "            if (actual_primo % div == 0):\n",
    "                primoo = False\n",
    "                break\n",
    "        if (primoo):\n",
    "            print(actual_primo)\n",
    "            while True:\n",
    "                actual_primo += 1\n",
    "                for div in range(2, int(actual_primo**(1/2))+1):\n",
    "                    if (actual_primo % div == 0):\n",
    "                        primo = False\n",
    "                        break\n",
    "                if (primo):\n",
    "                    print(actual_primo)\n",
    "                    break\n",
    "                else:\n",
    "                    primo = True\n",
    "        else:\n",
    "            print(\"NO ES PRIMOOOOOOOOOOOOOOOOO\")\n",
    "            #return None   \n",
    "    else:\n",
    "        print(\"NO ES PRIMO\")\n",
    "        #return None\n",
    "else:\n",
    "    print(\"NO ES ENTERO\")\n",
    "    #return None\n",
    "\n",
    "\n",
    "\n",
    "\n",
    " "
   ]
  },
  {
   "cell_type": "code",
   "execution_count": 131,
   "metadata": {},
   "outputs": [],
   "source": [
    "    # Esta función recibe como parámetro un número entero mayor a cero y devuelva dos listas, \n",
    "    # una con cada factor común y otra con su exponente, \n",
    "    # esas dos listas tienen que estar contenidas en otra lista.\n",
    "    # En caso de que el parámetro no sea de tipo entero y/ó mayor a cero debe retornar nulo.\n",
    "    # Recibe un argumento:\n",
    "    #     numero: Será el número sobre el que se hará la factorización.\n",
    "    # Ej:\n",
    "\n",
    "    #     factorizar_numero(12) debe retornar [[2,3],[2,1]]\n",
    "    #     factorizar_numero(13) debe retornar [[13],[1]]\n",
    "    #     factorizar_numero(14) debe retornar [[2,7],[1,1]]\n"
   ]
  },
  {
   "cell_type": "code",
   "execution_count": 3,
   "metadata": {},
   "outputs": [
    {
     "name": "stdout",
     "output_type": "stream",
     "text": [
      "[2, 3]\n"
     ]
    },
    {
     "ename": "IndexError",
     "evalue": "list index out of range",
     "output_type": "error",
     "traceback": [
      "\u001b[1;31m---------------------------------------------------------------------------\u001b[0m",
      "\u001b[1;31mIndexError\u001b[0m                                Traceback (most recent call last)",
      "Cell \u001b[1;32mIn[3], line 25\u001b[0m\n\u001b[0;32m     23\u001b[0m lpotencia\u001b[39m=\u001b[39m[]\n\u001b[0;32m     24\u001b[0m \u001b[39mfor\u001b[39;00m i \u001b[39min\u001b[39;00m lp:\n\u001b[1;32m---> 25\u001b[0m     \u001b[39mif\u001b[39;00m numero\u001b[39m%\u001b[39mlp[i]\u001b[39m==\u001b[39m\u001b[39m0\u001b[39m:\n\u001b[0;32m     26\u001b[0m         lfactor\u001b[39m.\u001b[39mappend(lp[i])\n\u001b[0;32m     27\u001b[0m \u001b[39mfor\u001b[39;00m i \u001b[39min\u001b[39;00m lfactor:\n",
      "\u001b[1;31mIndexError\u001b[0m: list index out of range"
     ]
    }
   ],
   "source": [
    "numero=15  #cuando es uno, es una excepcion???\n",
    "if type(numero)==int and numero>0:\n",
    "    max=int(numero**(1/2))+1\n",
    "    n = 2\n",
    "    primo = True\n",
    "    lp=[]\n",
    "    while (n <= max):\n",
    "        for div in lp:\n",
    "            if div>=int(n**(1/2))+1:\n",
    "                break\n",
    "            if (n % div == 0):\n",
    "                primo = False\n",
    "                break\n",
    "        if (primo):\n",
    "            #print(n)\n",
    "            lp.append(n)\n",
    "        else:\n",
    "            primo = True\n",
    "        n += 1\n",
    "    print(lp)\n",
    "\n",
    "    lfactor=[]\n",
    "    lpotencia=[]\n",
    "    for i in lp:\n",
    "        if numero%lp[i]==0:\n",
    "            lfactor.append(lp[i])\n",
    "    for i in lfactor:\n",
    "        n=numero\n",
    "        while True:\n",
    "            c=0\n",
    "            if n%lfactor[i]==0:\n",
    "                n=n/lfactor[i]\n",
    "                c=c+1\n",
    "            else:\n",
    "                lpotencia.append(c)\n",
    "                break\n",
    "    print(lfactor)\n",
    "    print(lpotencia)\n",
    "else:\n",
    "    print(\"En caso de que el parámetro no sea de tipo entero y/ó mayor a cero debe retornar nulo.\")\n",
    "    #return None\n"
   ]
  },
  {
   "cell_type": "code",
   "execution_count": 154,
   "metadata": {},
   "outputs": [
    {
     "data": {
      "text/plain": [
       "1"
      ]
     },
     "execution_count": 154,
     "metadata": {},
     "output_type": "execute_result"
    }
   ],
   "source": [
    "27%2\n"
   ]
  },
  {
   "cell_type": "code",
   "execution_count": 2,
   "metadata": {},
   "outputs": [
    {
     "name": "stdout",
     "output_type": "stream",
     "text": [
      "[2, 3, 5]\n"
     ]
    }
   ],
   "source": [
    "numero=20   \n",
    "max=int(numero**(1/2))+1\n",
    "n = 2\n",
    "primo = True\n",
    "lp=[]\n",
    "while (n <= max):\n",
    "    for div in lp:\n",
    "        if div>=int(n**(1/2))+1:\n",
    "            break\n",
    "        if (n % div == 0):\n",
    "            primo = False\n",
    "            break\n",
    "    if (primo):\n",
    "        #print(n)\n",
    "        lp.append(n)\n",
    "    else:\n",
    "        primo = True\n",
    "    n += 1\n",
    "print(lp) "
   ]
  },
  {
   "cell_type": "code",
   "execution_count": 1,
   "metadata": {},
   "outputs": [
    {
     "name": "stdout",
     "output_type": "stream",
     "text": [
      "[2, 3, 5, 7, 11, 13]\n",
      "[[3, 5], [1, 1]]\n"
     ]
    }
   ],
   "source": [
    "numero=15  #cuando es uno, es una excepcion???\n",
    "if type(numero)==int and numero>0:\n",
    "    n = 2\n",
    "    primo = True\n",
    "    lp=[]\n",
    "    while (n <= numero):\n",
    "        for div in lp:\n",
    "            if div>=int(n**(1/2))+1:\n",
    "                break\n",
    "            if (n % div == 0):\n",
    "                primo = False\n",
    "                break\n",
    "        if (primo):\n",
    "            #print(n)\n",
    "            lp.append(n)\n",
    "        else:\n",
    "            primo = True\n",
    "        n += 1\n",
    "    print(lp)\n",
    "\n",
    "    lfactor=[]\n",
    "    lpotencia=[]\n",
    "    for i in lp:\n",
    "        #print(i)\n",
    "        #print(\"paso por aca\")\n",
    "        #print(lfactor)\n",
    "        #print(f\"el numero {numero} dividido {[i]}\")\n",
    "        if numero%i==0:\n",
    "            lfactor.append(i)\n",
    "    for i in lfactor:\n",
    "        n=numero\n",
    "        c=0\n",
    "        while True:\n",
    "            if n%i==0:\n",
    "                n=n/i\n",
    "                c=c+1\n",
    "            else:\n",
    "                if c>0:\n",
    "                    lpotencia.append(c)\n",
    "                break\n",
    "    #print(lfactor)\n",
    "    #print(lpotencia)\n",
    "    listafinal=[lfactor,lpotencia]\n",
    "    print(listafinal)\n",
    "else:\n",
    "    print(\"En caso de que el parámetro no sea de tipo entero y/ó mayor a cero debe retornar nulo.\")\n",
    "    #return None\n"
   ]
  },
  {
   "cell_type": "code",
   "execution_count": 13,
   "metadata": {},
   "outputs": [],
   "source": [
    "dicc = {'clave1':['c','a','b'],\n",
    "                'clave2':['casa','auto','barco'],\n",
    "                'clave3':[1,2,3]}"
   ]
  },
  {
   "cell_type": "code",
   "execution_count": 14,
   "metadata": {},
   "outputs": [
    {
     "name": "stdout",
     "output_type": "stream",
     "text": [
      "{'clave1': ['c', 'a', 'b'], 'clave2': ['casa', 'auto', 'barco'], 'clave3': [1, 2, 3]}\n"
     ]
    }
   ],
   "source": [
    "print(dicc)"
   ]
  },
  {
   "cell_type": "code",
   "execution_count": 16,
   "metadata": {},
   "outputs": [
    {
     "name": "stdout",
     "output_type": "stream",
     "text": [
      "diccionario original: \n",
      "{'clave1': ['c', 'a', 'b'], 'clave2': ['casa', 'auto', 'barco'], 'clave3': [3, 2, 1]}\n",
      "diccionario ordenado: \n",
      "{'clave1': ['b', 'a', 'c'], 'clave2': ['barco', 'auto', 'casa'], 'clave3': [1, 2, 3]}\n"
     ]
    }
   ],
   "source": [
    "#diccionario_par = {'clave1':['c','a','b'],\n",
    "#                'clave2':['casa','auto','barco','bote'],\n",
    "#                'clave3':[3,1,2]}\n",
    "diccionario_par = {'clave1':['c','a','b'],\n",
    "               'clave2':['casa','auto','barco'],\n",
    "               'clave3':[3,2,1]}\n",
    "#diccionario_par = \"palabra\"\n",
    "descendente=False\n",
    "clave='clave3'\n",
    "if type(diccionario_par) != dict:\n",
    "#or clave not in diccionario_par.keys():\n",
    "    #return None\n",
    "    print(\"que retorne None\")\n",
    "else:    \n",
    "    diccionario_retorno = {}\n",
    "\n",
    "    for key, value in diccionario_par.items():\n",
    "        if len(value) != len(diccionario_par[clave]):\n",
    "            #return None\n",
    "            print(\"algo malo pasa\")\n",
    "\n",
    "    if descendente:\n",
    "        for key, value in diccionario_par.items():\n",
    "            diccionario_retorno[key] = [x for _, x in sorted(zip(diccionario_par[clave], value), reverse=True)]\n",
    "            \n",
    "    else:\n",
    "        for key, value in diccionario_par.items():\n",
    "            diccionario_retorno[key] = [x for _, x in sorted(zip(diccionario_par[clave], value))]\n",
    "    #return diccionario_retorno\n",
    "print(\"diccionario original: \")\n",
    "print(diccionario_par)\n",
    "print(\"diccionario ordenado: \")\n",
    "print(diccionario_retorno)"
   ]
  },
  {
   "cell_type": "code",
   "execution_count": 37,
   "metadata": {},
   "outputs": [
    {
     "name": "stdout",
     "output_type": "stream",
     "text": [
      "[1, 2, 3]\n",
      "['c', 'a', 'b']\n",
      "[(1, 'c'), (2, 'a'), (3, 'b')]\n",
      "\n",
      "[1, 2, 3]\n",
      "['casa', 'auto', 'barco']\n",
      "[(1, 'casa'), (2, 'auto'), (3, 'barco')]\n",
      "\n",
      "[1, 2, 3]\n",
      "[1, 2, 3]\n",
      "[(1, 1), (2, 2), (3, 3)]\n",
      "\n"
     ]
    }
   ],
   "source": [
    "diccionario_par = {'clave1':['c','a','b'],\n",
    "               'clave2':['casa','auto','barco'],\n",
    "               'clave3':[1,2,3]}    \n",
    "clave= 'clave3'\n",
    "#for key, value in diccionario_par.items():\n",
    "for key, value in diccionario_par.items():\n",
    "            #diccionario_retorno[key] = [x for _, x in sorted(zip(diccionario_par[clave], value))]\n",
    "            print(diccionario_par[clave])\n",
    "            print(value)\n",
    "            print(sorted(zip(diccionario_par[clave], value)))\n",
    "            # print(key)\n",
    "            # print(value)\n",
    "            # print(diccionario_par[key])\n",
    "            print(\"\")\n"
   ]
  },
  {
   "cell_type": "code",
   "execution_count": null,
   "metadata": {},
   "outputs": [],
   "source": [
    "if type(diccionario_par) != dict:\n",
    "    return None\n",
    "if clave not in diccionario_par.keys():\n",
    "    return None\n",
    "diccionario_retorno = {}\n",
    "for k, v in diccionario_par.items():\n",
    "    if len(v) != len(diccionario_par[clave]):\n",
    "        return None\n",
    "if descendente:\n",
    "    for k, v in diccionario_par.items():\n",
    "        diccionario_retorno[k] = [x for _, x in sorted(zip(diccionario_par[clave], v), reverse=True)]\n",
    "else:\n",
    "    for k, v in diccionario_par.items():\n",
    "        diccionario_retorno[k] = [x for _, x in sorted(zip(diccionario_par[clave], v))]\n",
    "return diccionario_retorno"
   ]
  },
  {
   "cell_type": "code",
   "execution_count": 54,
   "metadata": {},
   "outputs": [
    {
     "name": "stdout",
     "output_type": "stream",
     "text": [
      "return None\n",
      "[1, 2, 'a', 'b', 10]\n"
     ]
    }
   ],
   "source": [
    "#lista=([1,2,['a','b'],[10]]) #debe retornar [1,2,'a','b',10]\n",
    "lista=(108) #debe retornar el valor nulo.\n",
    "#lista=([[1,2,[3]],[4]]) #debe retornar [1,2,3,4]\n",
    "\n",
    "\n",
    "if type(lista) != list:\n",
    "    print(\"return None\")\n",
    "    #return None\n",
    "else:\n",
    "    ln = []\n",
    "    for i in lista:\n",
    "        if type(i) != list:\n",
    "            ln.append(i)\n",
    "        else:\n",
    "            for x in i:\n",
    "                if type(x) != list:\n",
    "                    ln.append(x)\n",
    "                else:\n",
    "                    for z in x:\n",
    "                        ln.append(z)\n",
    "\n",
    "#return ln\n",
    "print(ln)"
   ]
  },
  {
   "cell_type": "code",
   "execution_count": 3,
   "metadata": {},
   "outputs": [
    {
     "name": "stdout",
     "output_type": "stream",
     "text": [
      "6.333333333333333\n"
     ]
    }
   ],
   "source": [
    "numero=19\n",
    "numero/=3\n",
    "print(numero)"
   ]
  },
  {
   "cell_type": "code",
   "execution_count": 19,
   "metadata": {},
   "outputs": [
    {
     "data": {
      "text/plain": [
       "[[2, 3, 7, 12647], [2, 1, 1, 1]]"
      ]
     },
     "execution_count": 19,
     "metadata": {},
     "output_type": "execute_result"
    }
   ],
   "source": [
    "def FactorizarNumero(numero):\n",
    "    if type(numero) != int or numero <= 0:\n",
    "        return None\n",
    "    factores = []\n",
    "    exponentes = []\n",
    "    i = 2\n",
    "    while i * i <= numero:\n",
    "        if numero % i == 0:\n",
    "            factores.append(i)\n",
    "            exponente = 0\n",
    "            while numero % i == 0:\n",
    "                exponente += 1\n",
    "                numero //= i\n",
    "         \n",
    "            exponentes.append(exponente)\n",
    "        i += 1\n",
    "    if numero > 1:\n",
    "        factores.append(numero)\n",
    "        exponentes.append(1)\n",
    "    return [factores, exponentes]\n",
    "\n",
    "FactorizarNumero(1062348)\n",
    "\n"
   ]
  },
  {
   "cell_type": "code",
   "execution_count": 5,
   "metadata": {},
   "outputs": [
    {
     "name": "stdout",
     "output_type": "stream",
     "text": [
      "[8, 9, 10]\n"
     ]
    }
   ],
   "source": [
    "inicio=8\n",
    "tamanio=3\n",
    "\n",
    "r=[]\n",
    "for x in range(0,tamanio):\n",
    "    r.append(inicio+x)\n",
    "    \n",
    "print(r)\n",
    "\n"
   ]
  }
 ],
 "metadata": {
  "interpreter": {
   "hash": "c85384e4cb51c8b72350f3a8712cc8351fdc3955e32a27f9b60c6242ab125f01"
  },
  "kernelspec": {
   "display_name": "Python 3 (ipykernel)",
   "language": "python",
   "name": "python3"
  },
  "language_info": {
   "codemirror_mode": {
    "name": "ipython",
    "version": 3
   },
   "file_extension": ".py",
   "mimetype": "text/x-python",
   "name": "python",
   "nbconvert_exporter": "python",
   "pygments_lexer": "ipython3",
   "version": "3.10.11"
  }
 },
 "nbformat": 4,
 "nbformat_minor": 4
}

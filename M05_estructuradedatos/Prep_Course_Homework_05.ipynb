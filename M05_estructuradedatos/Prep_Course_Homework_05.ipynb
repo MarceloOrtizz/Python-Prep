{
 "cells": [
  {
   "attachments": {},
   "cell_type": "markdown",
   "metadata": {},
   "source": [
    "## Estructuras de Datos"
   ]
  },
  {
   "attachments": {},
   "cell_type": "markdown",
   "metadata": {},
   "source": [
    "1) Crear una lista que contenga nombres de ciudades del mundo que contenga más de 5 elementos e imprimir por pantalla"
   ]
  },
  {
   "cell_type": "code",
   "execution_count": 3,
   "metadata": {},
   "outputs": [
    {
     "name": "stdout",
     "output_type": "stream",
     "text": [
      "['Buenos Aires', 'Brasilia', 'Asunción', 'Montevideo', 'Santiago', 'Lima', 'Caracas', 'Bogotá']\n"
     ]
    }
   ],
   "source": [
    "lis = ['Buenos Aires','Brasilia','Asunción','Montevideo','Santiago','Lima','Caracas','Bogotá']\n",
    "print(lis)"
   ]
  },
  {
   "attachments": {},
   "cell_type": "markdown",
   "metadata": {},
   "source": [
    "2) Imprimir por pantalla el segundo elemento de la lista"
   ]
  },
  {
   "cell_type": "code",
   "execution_count": 2,
   "metadata": {},
   "outputs": [
    {
     "name": "stdout",
     "output_type": "stream",
     "text": [
      "Brasilia\n"
     ]
    }
   ],
   "source": [
    "print(lis[1])"
   ]
  },
  {
   "attachments": {},
   "cell_type": "markdown",
   "metadata": {},
   "source": [
    "3) Imprimir por pantalla del segundo al cuarto elemento"
   ]
  },
  {
   "cell_type": "code",
   "execution_count": 4,
   "metadata": {},
   "outputs": [
    {
     "name": "stdout",
     "output_type": "stream",
     "text": [
      "['Brasilia', 'Asunción', 'Montevideo']\n"
     ]
    }
   ],
   "source": [
    "print(lis[1:4])"
   ]
  },
  {
   "cell_type": "code",
   "execution_count": 9,
   "metadata": {},
   "outputs": [
    {
     "name": "stdout",
     "output_type": "stream",
     "text": [
      "['Buenos Aires', 'Brasilia', 'Asunción', 'Montevideo', 'Santiago', 'Lima', 'Caracas', 'Bogotá']\n"
     ]
    }
   ],
   "source": [
    "print(lis[0:100])"
   ]
  },
  {
   "attachments": {},
   "cell_type": "markdown",
   "metadata": {},
   "source": [
    "4) Visualizar el tipo de dato de la lista"
   ]
  },
  {
   "cell_type": "code",
   "execution_count": 11,
   "metadata": {},
   "outputs": [
    {
     "name": "stdout",
     "output_type": "stream",
     "text": [
      "<class 'list'>\n"
     ]
    }
   ],
   "source": [
    "print(type(lis))"
   ]
  },
  {
   "attachments": {},
   "cell_type": "markdown",
   "metadata": {},
   "source": [
    "5) Visualizar todos los elementos de la lista a partir del tercero de manera genérica, es decir, sin explicitar la posición del último elemento"
   ]
  },
  {
   "cell_type": "code",
   "execution_count": 12,
   "metadata": {},
   "outputs": [
    {
     "name": "stdout",
     "output_type": "stream",
     "text": [
      "['Asunción', 'Montevideo', 'Santiago', 'Lima', 'Caracas', 'Bogotá']\n"
     ]
    }
   ],
   "source": [
    "print(lis[2:])"
   ]
  },
  {
   "attachments": {},
   "cell_type": "markdown",
   "metadata": {},
   "source": [
    "6) Visualizar los primeros 4 elementos de la lista"
   ]
  },
  {
   "cell_type": "code",
   "execution_count": 13,
   "metadata": {},
   "outputs": [
    {
     "name": "stdout",
     "output_type": "stream",
     "text": [
      "['Buenos Aires', 'Brasilia', 'Asunción', 'Montevideo']\n"
     ]
    }
   ],
   "source": [
    "print(lis[:4])"
   ]
  },
  {
   "attachments": {},
   "cell_type": "markdown",
   "metadata": {},
   "source": [
    "7) Agregar una ciudad más a la lista que ya exista y otra que no ¿Arroja algún tipo de error?"
   ]
  },
  {
   "cell_type": "code",
   "execution_count": 14,
   "metadata": {},
   "outputs": [
    {
     "name": "stdout",
     "output_type": "stream",
     "text": [
      "['Buenos Aires', 'Brasilia', 'Asunción', 'Montevideo', 'Santiago', 'Lima', 'Caracas', 'Bogotá', 'Ciudad de Mexico', 'Montevideo']\n"
     ]
    }
   ],
   "source": [
    "lis.append(\"Ciudad de Mexico\")\n",
    "lis.append(\"Montevideo\")\n",
    "print(lis)"
   ]
  },
  {
   "attachments": {},
   "cell_type": "markdown",
   "metadata": {},
   "source": [
    "8) Agregar otra ciudad, pero en la cuarta posición"
   ]
  },
  {
   "cell_type": "code",
   "execution_count": 15,
   "metadata": {},
   "outputs": [],
   "source": [
    "lis.insert(3,\"Quito\")"
   ]
  },
  {
   "cell_type": "code",
   "execution_count": 16,
   "metadata": {},
   "outputs": [
    {
     "name": "stdout",
     "output_type": "stream",
     "text": [
      "['Buenos Aires', 'Brasilia', 'Asunción', 'Quito', 'Montevideo', 'Santiago', 'Lima', 'Caracas', 'Bogotá', 'Ciudad de Mexico', 'Montevideo']\n"
     ]
    }
   ],
   "source": [
    "print(lis)"
   ]
  },
  {
   "attachments": {},
   "cell_type": "markdown",
   "metadata": {},
   "source": [
    "9) Concatenar otra lista a la ya creada"
   ]
  },
  {
   "cell_type": "code",
   "execution_count": 18,
   "metadata": {},
   "outputs": [
    {
     "name": "stdout",
     "output_type": "stream",
     "text": [
      "['Buenos Aires', 'Brasilia', 'Asunción', 'Quito', 'Montevideo', 'Santiago', 'Lima', 'Caracas', 'Bogotá', 'Ciudad de Mexico', 'Montevideo', 'Madrid', 'Roma', 'Bruselas']\n"
     ]
    }
   ],
   "source": [
    "new=[\"Madrid\", \"Roma\", \"Bruselas\"]\n",
    "lis.extend(new)\n",
    "print(lis)\n"
   ]
  },
  {
   "cell_type": "code",
   "execution_count": 19,
   "metadata": {},
   "outputs": [
    {
     "name": "stdout",
     "output_type": "stream",
     "text": [
      "[1, 2, 3, 4, 5, 6]\n"
     ]
    }
   ],
   "source": [
    "l1=[1,2,3]\n",
    "l2=[4,5,6]\n",
    "lt=l1+l2\n",
    "print(lt)"
   ]
  },
  {
   "cell_type": "code",
   "execution_count": 33,
   "metadata": {},
   "outputs": [
    {
     "name": "stdout",
     "output_type": "stream",
     "text": [
      "[1, 2, 3, 4, 5, 6]\n"
     ]
    }
   ],
   "source": [
    "l1=[1,2,3]\n",
    "l2=[4,5,6]\n",
    "l1.extend(l2)\n",
    "print(l1)"
   ]
  },
  {
   "cell_type": "code",
   "execution_count": 31,
   "metadata": {},
   "outputs": [
    {
     "name": "stdout",
     "output_type": "stream",
     "text": [
      "[1, 2, 3, 4, 5, 6]\n"
     ]
    }
   ],
   "source": [
    "l1=[1,2,3]\n",
    "l2=[4,5,6]\n",
    "l1=l1+l2\n",
    "print(l1)"
   ]
  },
  {
   "attachments": {},
   "cell_type": "markdown",
   "metadata": {},
   "source": [
    "10) Encontrar el índice de la ciudad que en el punto 7 agregamos duplicada. ¿Se nota alguna particularidad?"
   ]
  },
  {
   "cell_type": "code",
   "execution_count": 34,
   "metadata": {},
   "outputs": [
    {
     "data": {
      "text/plain": [
       "4"
      ]
     },
     "execution_count": 34,
     "metadata": {},
     "output_type": "execute_result"
    }
   ],
   "source": [
    "lis.index(\"Montevideo\")\n"
   ]
  },
  {
   "cell_type": "code",
   "execution_count": 35,
   "metadata": {},
   "outputs": [
    {
     "data": {
      "text/plain": [
       "2"
      ]
     },
     "execution_count": 35,
     "metadata": {},
     "output_type": "execute_result"
    }
   ],
   "source": [
    "lis.count(\"Montevideo\")"
   ]
  },
  {
   "cell_type": "code",
   "execution_count": 36,
   "metadata": {},
   "outputs": [
    {
     "name": "stdout",
     "output_type": "stream",
     "text": [
      "0 Buenos Aires\n",
      "1 Brasilia\n",
      "2 Asunción\n",
      "3 Quito\n",
      "4 Montevideo\n",
      "5 Santiago\n",
      "6 Lima\n",
      "7 Caracas\n",
      "8 Bogotá\n",
      "9 Ciudad de Mexico\n",
      "10 Montevideo\n",
      "11 Madrid\n",
      "12 Roma\n",
      "13 Bruselas\n"
     ]
    }
   ],
   "source": [
    "for i, elemento in enumerate(lis):\n",
    "    print(i, elemento)"
   ]
  },
  {
   "attachments": {},
   "cell_type": "markdown",
   "metadata": {},
   "source": [
    "11) ¿Qué pasa si se busca un elemento que no existe?"
   ]
  },
  {
   "cell_type": "code",
   "execution_count": 37,
   "metadata": {},
   "outputs": [
    {
     "ename": "ValueError",
     "evalue": "'París' is not in list",
     "output_type": "error",
     "traceback": [
      "\u001b[1;31m---------------------------------------------------------------------------\u001b[0m",
      "\u001b[1;31mValueError\u001b[0m                                Traceback (most recent call last)",
      "Cell \u001b[1;32mIn[37], line 1\u001b[0m\n\u001b[1;32m----> 1\u001b[0m lis\u001b[39m.\u001b[39;49mindex(\u001b[39m\"\u001b[39;49m\u001b[39mParís\u001b[39;49m\u001b[39m\"\u001b[39;49m)\n",
      "\u001b[1;31mValueError\u001b[0m: 'París' is not in list"
     ]
    }
   ],
   "source": [
    "lis.index(\"París\")\n",
    "\n",
    "    "
   ]
  },
  {
   "attachments": {},
   "cell_type": "markdown",
   "metadata": {},
   "source": [
    "12) Eliminar un elemento de la lista"
   ]
  },
  {
   "attachments": {},
   "cell_type": "markdown",
   "metadata": {},
   "source": [
    "lista.remove()\n",
    "lista.pop()  el ultimo o se puede indicar el indice\n",
    "del lista[indice]"
   ]
  },
  {
   "cell_type": "code",
   "execution_count": 41,
   "metadata": {},
   "outputs": [],
   "source": [
    "lis.remove(\"Buenos Aires\")"
   ]
  },
  {
   "cell_type": "code",
   "execution_count": 38,
   "metadata": {},
   "outputs": [
    {
     "data": {
      "text/plain": [
       "'Bruselas'"
      ]
     },
     "execution_count": 38,
     "metadata": {},
     "output_type": "execute_result"
    }
   ],
   "source": [
    "lis.pop()"
   ]
  },
  {
   "cell_type": "code",
   "execution_count": 66,
   "metadata": {},
   "outputs": [
    {
     "name": "stdout",
     "output_type": "stream",
     "text": [
      "0 Brasilia\n",
      "1 Asunción\n",
      "2 Quito\n",
      "3 Montevideo\n",
      "4 Santiago\n",
      "5 Lima\n",
      "6 Caracas\n",
      "7 Bogotá\n",
      "8 Ciudad de Mexico\n",
      "9 Montevideo\n",
      "10 París\n"
     ]
    }
   ],
   "source": [
    "for i, elemento in enumerate(lis):\n",
    "    print(i, elemento)"
   ]
  },
  {
   "cell_type": "code",
   "execution_count": 43,
   "metadata": {},
   "outputs": [],
   "source": [
    "#del lis[0:4] elimina los primeros 5 elementos de la lista\n",
    "del lis[10]"
   ]
  },
  {
   "attachments": {},
   "cell_type": "markdown",
   "metadata": {},
   "source": [
    "13) ¿Qué pasa si el elemento a eliminar no existe?"
   ]
  },
  {
   "cell_type": "code",
   "execution_count": 45,
   "metadata": {},
   "outputs": [
    {
     "ename": "IndexError",
     "evalue": "list assignment index out of range",
     "output_type": "error",
     "traceback": [
      "\u001b[1;31m---------------------------------------------------------------------------\u001b[0m",
      "\u001b[1;31mIndexError\u001b[0m                                Traceback (most recent call last)",
      "Cell \u001b[1;32mIn[45], line 1\u001b[0m\n\u001b[1;32m----> 1\u001b[0m \u001b[39mdel\u001b[39;00m lis[\u001b[39m100\u001b[39m]\n",
      "\u001b[1;31mIndexError\u001b[0m: list assignment index out of range"
     ]
    }
   ],
   "source": [
    "del lis[100]"
   ]
  },
  {
   "attachments": {},
   "cell_type": "markdown",
   "metadata": {},
   "source": [
    "14) Extraer el úlimo elemento de la lista, guardarlo en una variable e imprimirlo"
   ]
  },
  {
   "cell_type": "code",
   "execution_count": 46,
   "metadata": {},
   "outputs": [
    {
     "name": "stdout",
     "output_type": "stream",
     "text": [
      "Roma\n"
     ]
    }
   ],
   "source": [
    "ult=lis.pop()\n",
    "print(ult)\n"
   ]
  },
  {
   "attachments": {},
   "cell_type": "markdown",
   "metadata": {},
   "source": [
    "15) Mostrar la lista multiplicada por 4"
   ]
  },
  {
   "cell_type": "code",
   "execution_count": 48,
   "metadata": {},
   "outputs": [
    {
     "name": "stdout",
     "output_type": "stream",
     "text": [
      "['Brasilia', 'Asunción', 'Quito', 'Montevideo', 'Santiago', 'Lima', 'Caracas', 'Bogotá', 'Ciudad de Mexico', 'Montevideo', 'Brasilia', 'Asunción', 'Quito', 'Montevideo', 'Santiago', 'Lima', 'Caracas', 'Bogotá', 'Ciudad de Mexico', 'Montevideo', 'Brasilia', 'Asunción', 'Quito', 'Montevideo', 'Santiago', 'Lima', 'Caracas', 'Bogotá', 'Ciudad de Mexico', 'Montevideo', 'Brasilia', 'Asunción', 'Quito', 'Montevideo', 'Santiago', 'Lima', 'Caracas', 'Bogotá', 'Ciudad de Mexico', 'Montevideo']\n"
     ]
    }
   ],
   "source": [
    "print(lis*4)"
   ]
  },
  {
   "attachments": {},
   "cell_type": "markdown",
   "metadata": {},
   "source": [
    "16) Crear una tupla que contenga los números enteros del 1 al 20"
   ]
  },
  {
   "cell_type": "code",
   "execution_count": null,
   "metadata": {},
   "outputs": [],
   "source": [
    "tup = (1,2,3,4,5,6,7,8,9,10,11,12,13,14,15,16,17,18,19,20)\n",
    "print(type(tup))\n",
    "print(tup)"
   ]
  },
  {
   "cell_type": "code",
   "execution_count": 51,
   "metadata": {},
   "outputs": [
    {
     "name": "stdout",
     "output_type": "stream",
     "text": [
      "[1, 2, 3, 4, 5, 6, 7, 8, 9, 10, 11, 12, 13, 14, 15, 16, 17, 18, 19, 20]\n",
      "(1, 2, 3, 4, 5, 6, 7, 8, 9, 10, 11, 12, 13, 14, 15, 16, 17, 18, 19, 20)\n",
      "<class 'tuple'>\n"
     ]
    }
   ],
   "source": [
    "lista=[]\n",
    "for i in range(1,21):\n",
    "    lista.append(i)\n",
    "print(lista)\n",
    "\n",
    "tup=tuple(lista)\n",
    "print(tup)\n",
    "print(type(tup))\n"
   ]
  },
  {
   "cell_type": "code",
   "execution_count": 2,
   "metadata": {},
   "outputs": [
    {
     "name": "stdout",
     "output_type": "stream",
     "text": [
      "[1, 2, 3, 4, 5, 6, 7, 8, 9, 10]\n",
      "(1, 2, 3, 4, 5, 6, 7, 8, 9, 10)\n",
      "<class 'tuple'>\n"
     ]
    }
   ],
   "source": [
    "tt=[]\n",
    "for i in range (1,11):\n",
    "    tt.append(i)\n",
    "print(tt)   \n",
    "tt=tuple(tt)\n",
    "print(tt)\n",
    "print(type(tt)) "
   ]
  },
  {
   "cell_type": "code",
   "execution_count": 3,
   "metadata": {},
   "outputs": [
    {
     "name": "stdout",
     "output_type": "stream",
     "text": [
      "(1, 2, 3, 4, 5, 6, 7, 8, 9, 10)\n",
      "<class 'tuple'>\n"
     ]
    },
    {
     "data": {
      "text/plain": [
       "(1, 2, 3, 4, 5, 6, 7, 8, 9, 10)"
      ]
     },
     "execution_count": 3,
     "metadata": {},
     "output_type": "execute_result"
    }
   ],
   "source": [
    "def creatupla(inicio,fin):\n",
    "    tt=[]\n",
    "    for i in range (inicio,fin):\n",
    "        tt.append(i)\n",
    "    tt=tuple(tt)\n",
    "    print(tt)\n",
    "    print(type(tt)) \n",
    "    return tt\n",
    "\n",
    "creatupla(1,11)"
   ]
  },
  {
   "attachments": {},
   "cell_type": "markdown",
   "metadata": {},
   "source": [
    "17) Imprimir desde el índice 10 al 15 de la tupla"
   ]
  },
  {
   "cell_type": "code",
   "execution_count": 54,
   "metadata": {},
   "outputs": [
    {
     "name": "stdout",
     "output_type": "stream",
     "text": [
      "(11, 12, 13, 14, 15, 16)\n"
     ]
    }
   ],
   "source": [
    "print(tup[10:16])"
   ]
  },
  {
   "attachments": {},
   "cell_type": "markdown",
   "metadata": {},
   "source": [
    "18) Evaluar si los números 20 y 30 están dentro de la tupla"
   ]
  },
  {
   "cell_type": "code",
   "execution_count": 56,
   "metadata": {},
   "outputs": [
    {
     "name": "stdout",
     "output_type": "stream",
     "text": [
      "True\n",
      "False\n"
     ]
    }
   ],
   "source": [
    "print(20 in tup)\n",
    "print(30 in tup)"
   ]
  },
  {
   "attachments": {},
   "cell_type": "markdown",
   "metadata": {},
   "source": [
    "19) Con la lista creada en el punto 1, validar la existencia del elemento 'París' y si no existe, agregarlo. Utilizar una variable e informar lo sucedido."
   ]
  },
  {
   "cell_type": "code",
   "execution_count": 65,
   "metadata": {},
   "outputs": [
    {
     "name": "stdout",
     "output_type": "stream",
     "text": [
      "París ya esta en la lista\n"
     ]
    }
   ],
   "source": [
    "x=\"París\"\n",
    "if (x in lis):\n",
    "    print(f\"{x} ya esta en la lista\")\n",
    "else:\n",
    "    lis.append(x)\n",
    "    print(f\"{x} fue agregado a la lista\")"
   ]
  },
  {
   "attachments": {},
   "cell_type": "markdown",
   "metadata": {},
   "source": [
    "20) Mostrar la cantidad de veces que se encuentra un elemento específico dentro de la tupla y de la lista"
   ]
  },
  {
   "cell_type": "code",
   "execution_count": 67,
   "metadata": {},
   "outputs": [
    {
     "name": "stdout",
     "output_type": "stream",
     "text": [
      "1\n"
     ]
    }
   ],
   "source": [
    "print(tup.count(10))"
   ]
  },
  {
   "cell_type": "code",
   "execution_count": 68,
   "metadata": {},
   "outputs": [
    {
     "name": "stdout",
     "output_type": "stream",
     "text": [
      "2\n"
     ]
    }
   ],
   "source": [
    "print(lis.count(\"Montevideo\"))"
   ]
  },
  {
   "attachments": {},
   "cell_type": "markdown",
   "metadata": {},
   "source": [
    "21) Convertir la tupla en una lista"
   ]
  },
  {
   "cell_type": "code",
   "execution_count": 69,
   "metadata": {},
   "outputs": [
    {
     "name": "stdout",
     "output_type": "stream",
     "text": [
      "[1, 2, 3, 4, 5, 6, 7, 8, 9, 10, 11, 12, 13, 14, 15, 16, 17, 18, 19, 20]\n"
     ]
    }
   ],
   "source": [
    "newlis = list(tup)\n",
    "print(newlis)"
   ]
  },
  {
   "attachments": {},
   "cell_type": "markdown",
   "metadata": {},
   "source": [
    "22) Desempaquetar solo los primeros 3 elementos de la tupla en 3 variables"
   ]
  },
  {
   "cell_type": "code",
   "execution_count": 73,
   "metadata": {},
   "outputs": [
    {
     "name": "stdout",
     "output_type": "stream",
     "text": [
      "1 2 3\n"
     ]
    }
   ],
   "source": [
    "e1,e2,e3=tup[0:3]\n",
    "print(e1,e2,e3)"
   ]
  },
  {
   "attachments": {},
   "cell_type": "markdown",
   "metadata": {},
   "source": [
    "23) Crear un diccionario utilizando la lista crada en el punto 1, asignandole la clave \"ciudad\". Agregar tambien otras claves, como puede ser \"Pais\" y \"Continente\"."
   ]
  },
  {
   "cell_type": "code",
   "execution_count": 4,
   "metadata": {},
   "outputs": [
    {
     "name": "stdout",
     "output_type": "stream",
     "text": [
      "0 Buenos Aires\n",
      "1 Brasilia\n",
      "2 Asunción\n",
      "3 Montevideo\n",
      "4 Santiago\n",
      "5 Lima\n",
      "6 Caracas\n",
      "7 Bogotá\n"
     ]
    }
   ],
   "source": [
    "for i, elemento in enumerate(lis):\n",
    "    print(i, elemento)"
   ]
  },
  {
   "cell_type": "code",
   "execution_count": 5,
   "metadata": {},
   "outputs": [],
   "source": [
    "# mi_diccionario = {  'Colores Primarios': ['Rojo','Azul','Amarillo'], \n",
    "#                     'Colores secundarios': ['Naranja','Violeta','Verde'], \n",
    "#                     'Clave3': 10,\n",
    "#                     'Clave4': False}\n",
    "\n",
    "\n",
    "\n",
    "dicc={\"Ciudad\":lis,\n",
    "      'País': ['Argentina', 'Brasil', 'Paraguay','Ecuador','Uruguay','Chile','Perú','Venezuela','Colombia'],\n",
    "     'Continente' : ['América','América','América','América','América','América','América','América']} \n"
   ]
  },
  {
   "attachments": {},
   "cell_type": "markdown",
   "metadata": {},
   "source": [
    "24) Imprimir las claves del diccionario"
   ]
  },
  {
   "cell_type": "code",
   "execution_count": 6,
   "metadata": {},
   "outputs": [
    {
     "name": "stdout",
     "output_type": "stream",
     "text": [
      "dict_keys(['Ciudad', 'País', 'Continente'])\n"
     ]
    }
   ],
   "source": [
    "print(dicc.keys())"
   ]
  },
  {
   "attachments": {},
   "cell_type": "markdown",
   "metadata": {},
   "source": [
    "25) Imprimir las ciudades a través de su clave"
   ]
  },
  {
   "cell_type": "code",
   "execution_count": 7,
   "metadata": {},
   "outputs": [
    {
     "name": "stdout",
     "output_type": "stream",
     "text": [
      "['Buenos Aires', 'Brasilia', 'Asunción', 'Montevideo', 'Santiago', 'Lima', 'Caracas', 'Bogotá']\n"
     ]
    }
   ],
   "source": [
    "print(dicc['Ciudad'])"
   ]
  },
  {
   "cell_type": "code",
   "execution_count": 18,
   "metadata": {},
   "outputs": [
    {
     "name": "stdout",
     "output_type": "stream",
     "text": [
      "['Naranja', 'Violeta', 'Verde']\n"
     ]
    }
   ],
   "source": [
    "dict = {  'Colores Primarios': ['Rojo','Azul','Amarillo'], \n",
    "                    'Colores secundarios': ['Naranja','Violeta','Verde'], \n",
    "                    'Clave3': 10,\n",
    "                    'Clave4': False}\n",
    "\n",
    "print(dict[\"Colores secundarios\"])"
   ]
  },
  {
   "cell_type": "code",
   "execution_count": 19,
   "metadata": {},
   "outputs": [],
   "source": [
    "dict[\"otra clave\"]=111\n",
    "\n"
   ]
  },
  {
   "cell_type": "code",
   "execution_count": 20,
   "metadata": {},
   "outputs": [
    {
     "name": "stdout",
     "output_type": "stream",
     "text": [
      "{'Colores Primarios': ['Rojo', 'Azul', 'Amarillo'], 'Colores secundarios': ['Naranja', 'Violeta', 'Verde'], 'Clave3': 10, 'Clave4': False, 'otra clave': 111}\n"
     ]
    }
   ],
   "source": [
    "print(dict)"
   ]
  },
  {
   "cell_type": "code",
   "execution_count": 3,
   "metadata": {},
   "outputs": [],
   "source": [
    "dict = {  'Colores Primarios': ['Rojo','Azul','Amarillo'], \n",
    "                    'Colores secundarios': ['Naranja','Violeta','Verde'], \n",
    "                    'Clave3': 10,\n",
    "                    'Clave4': False}\n",
    "\n",
    "def testdic(d, k):\n",
    "    print(d[k])\n"
   ]
  },
  {
   "cell_type": "code",
   "execution_count": 2,
   "metadata": {},
   "outputs": [
    {
     "name": "stdout",
     "output_type": "stream",
     "text": [
      "['Naranja', 'Violeta', 'Verde']\n"
     ]
    }
   ],
   "source": [
    "testdic(dict, \"Colores secundarios\")"
   ]
  },
  {
   "cell_type": "code",
   "execution_count": 3,
   "metadata": {},
   "outputs": [
    {
     "name": "stdout",
     "output_type": "stream",
     "text": [
      "['Rojo', 'Azul', 'Amarillo']\n"
     ]
    }
   ],
   "source": [
    "testdic(dict, \"Colores Primarios\")"
   ]
  },
  {
   "cell_type": "code",
   "execution_count": 5,
   "metadata": {},
   "outputs": [
    {
     "name": "stdout",
     "output_type": "stream",
     "text": [
      "10\n"
     ]
    }
   ],
   "source": [
    "testdic(dict, \"Clave3\")"
   ]
  },
  {
   "cell_type": "code",
   "execution_count": 4,
   "metadata": {},
   "outputs": [
    {
     "name": "stdout",
     "output_type": "stream",
     "text": [
      "False\n"
     ]
    }
   ],
   "source": [
    "testdic(dict, \"Clave4\")"
   ]
  },
  {
   "cell_type": "code",
   "execution_count": 8,
   "metadata": {},
   "outputs": [
    {
     "name": "stdout",
     "output_type": "stream",
     "text": [
      "Colores Primarios : ['Rojo', 'Azul', 'Amarillo']\n",
      "Colores secundarios : ['Naranja', 'Violeta', 'Verde']\n",
      "Clave3 : 10\n",
      "Clave4 : False\n"
     ]
    }
   ],
   "source": [
    "for i in dict:\n",
    "    print(f\"{i} : {dict[i]}\")\n"
   ]
  },
  {
   "cell_type": "code",
   "execution_count": 10,
   "metadata": {},
   "outputs": [
    {
     "name": "stdout",
     "output_type": "stream",
     "text": [
      "Colores Primarios  : ['Rojo', 'Azul', 'Amarillo']\n",
      "Colores secundarios  : ['Naranja', 'Violeta', 'Verde']\n",
      "Clave3  : 10\n",
      "Clave4  : False\n"
     ]
    }
   ],
   "source": [
    "for z,x in dict.items():\n",
    "    print(z,\" :\" ,x)"
   ]
  },
  {
   "cell_type": "code",
   "execution_count": 13,
   "metadata": {},
   "outputs": [
    {
     "name": "stdout",
     "output_type": "stream",
     "text": [
      "['Rojo', 'Azul', 'Amarillo']\n"
     ]
    }
   ],
   "source": [
    "print(dict.get('Colores Primarios'))"
   ]
  },
  {
   "cell_type": "code",
   "execution_count": 14,
   "metadata": {},
   "outputs": [
    {
     "name": "stdout",
     "output_type": "stream",
     "text": [
      "None\n"
     ]
    }
   ],
   "source": [
    "print(dict.get('otra cosa'))"
   ]
  },
  {
   "cell_type": "code",
   "execution_count": 31,
   "metadata": {},
   "outputs": [
    {
     "name": "stdout",
     "output_type": "stream",
     "text": [
      "Clave4\n"
     ]
    }
   ],
   "source": [
    "unalis=dict.items()\n",
    "#print(list(unalis))\n",
    "print(list(unalis)[3][0])\n"
   ]
  },
  {
   "cell_type": "code",
   "execution_count": 1,
   "metadata": {},
   "outputs": [
    {
     "name": "stdout",
     "output_type": "stream",
     "text": [
      "{'nombre': ['maria', 'juan', 'pedro'], 'apellido': ['sosa', 'perez', 'alvarez'], 'edad': [18, 20, 50]}\n"
     ]
    }
   ],
   "source": [
    "name=['maria','juan','pedro']\n",
    "lastname=['sosa','perez','alvarez']\n",
    "age=[18,20,50]\n",
    "\n",
    "personas={'nombre':name,'apellido':lastname,'edad':age}\n",
    "print(personas)"
   ]
  },
  {
   "cell_type": "code",
   "execution_count": 53,
   "metadata": {},
   "outputs": [
    {
     "name": "stdout",
     "output_type": "stream",
     "text": [
      "nombre  :  ['maria', 'juan', 'pedro']\n",
      "apellido  :  ['sosa', 'perez', 'alvarez']\n",
      "edad  :  [18, 20, 50]\n"
     ]
    }
   ],
   "source": [
    "for x in personas:\n",
    "    print(x,\" : \", personas[x])"
   ]
  },
  {
   "cell_type": "code",
   "execution_count": 4,
   "metadata": {},
   "outputs": [
    {
     "name": "stdout",
     "output_type": "stream",
     "text": [
      "Valores :\n",
      "['maria', 'juan', 'pedro']\n",
      "['sosa', 'perez', 'alvarez']\n",
      "[18, 20, 50]\n",
      "<class 'list'>\n",
      " \n",
      "Claves : \n",
      "nombre\n",
      "apellido\n",
      "edad\n",
      "<class 'str'>\n",
      " \n",
      "todo el contenido:\n",
      "('nombre', ['maria', 'juan', 'pedro'])\n",
      "('apellido', ['sosa', 'perez', 'alvarez'])\n",
      "('edad', [18, 20, 50])\n",
      "<class 'tuple'>\n",
      " \n",
      "todo el contenido separado:\n",
      "nombre ['maria', 'juan', 'pedro']\n",
      "apellido ['sosa', 'perez', 'alvarez']\n",
      "edad [18, 20, 50]\n",
      "<class 'str'>\n",
      "<class 'list'>\n"
     ]
    }
   ],
   "source": [
    "print(\"Valores :\")\n",
    "for x in personas.values():\n",
    "    print(x)\n",
    "print(type(x))\n",
    "print(\" \")\n",
    "\n",
    "print(\"Claves : \")\n",
    "for x in personas.keys():\n",
    "    print(x)\n",
    "print(type(x))\n",
    "print(\" \")    \n",
    "\n",
    "print(\"todo el contenido:\")\n",
    "for x in personas.items():\n",
    "    print(x)\n",
    "print(type(x))\n",
    "print(\" \")\n",
    "\n",
    "print(\"todo el contenido separado:\")\n",
    "for x,y in personas.items():\n",
    "    print(x,y)\n",
    "print(type(x))\n",
    "print(type(y))"
   ]
  },
  {
   "cell_type": "code",
   "execution_count": 5,
   "metadata": {},
   "outputs": [],
   "source": [
    "#agrego una nueva clave son sus respectivos valores\n",
    "personas['iniciales']=['ms','jp','pa']"
   ]
  },
  {
   "cell_type": "code",
   "execution_count": 56,
   "metadata": {},
   "outputs": [
    {
     "name": "stdout",
     "output_type": "stream",
     "text": [
      "nombre  :  ['maria', 'juan', 'pedro']\n",
      "apellido  :  ['sosa', 'perez', 'alvarez']\n",
      "edad  :  [18, 20, 50]\n",
      "iniciales  :  ['ms', 'jp', 'pa']\n",
      "longitud del diccionario:  4\n"
     ]
    }
   ],
   "source": [
    "for x,y in personas.items():\n",
    "    print(x,' : ',y)\n",
    "print('longitud del diccionario: ',len(personas))"
   ]
  },
  {
   "cell_type": "code",
   "execution_count": 29,
   "metadata": {},
   "outputs": [],
   "source": [
    "del personas['iniciales']"
   ]
  },
  {
   "cell_type": "code",
   "execution_count": 7,
   "metadata": {},
   "outputs": [
    {
     "name": "stdout",
     "output_type": "stream",
     "text": [
      "<zip object at 0x0000014131316200>\n",
      "<class 'zip'>\n",
      "[('jp', 'juan'), ('ms', 'maria'), ('pa', 'pedro')]\n",
      "<class 'list'>\n",
      "que tiene y?: ['maria', 'juan', 'pedro']\n",
      "que tiene el dicc[x]? : ['juan', 'maria', 'pedro']\n",
      "que tiene x?:  nombre\n",
      " \n",
      "<zip object at 0x0000014131316200>\n",
      "<class 'zip'>\n",
      "[('jp', 'perez'), ('ms', 'sosa'), ('pa', 'alvarez')]\n",
      "<class 'list'>\n",
      "que tiene y?: ['sosa', 'perez', 'alvarez']\n",
      "que tiene el dicc[x]? : ['perez', 'sosa', 'alvarez']\n",
      "que tiene x?:  apellido\n",
      " \n",
      "<zip object at 0x0000014131316200>\n",
      "<class 'zip'>\n",
      "[('jp', 20), ('ms', 18), ('pa', 50)]\n",
      "<class 'list'>\n",
      "que tiene y?: [18, 20, 50]\n",
      "que tiene el dicc[x]? : [20, 18, 50]\n",
      "que tiene x?:  edad\n",
      " \n",
      "<zip object at 0x0000014131316200>\n",
      "<class 'zip'>\n",
      "[('jp', 'jp'), ('ms', 'ms'), ('pa', 'pa')]\n",
      "<class 'list'>\n",
      "que tiene y?: ['ms', 'jp', 'pa']\n",
      "que tiene el dicc[x]? : ['jp', 'ms', 'pa']\n",
      "que tiene x?:  iniciales\n",
      " \n",
      "nombre  :  ['juan', 'maria', 'pedro']\n",
      "apellido  :  ['perez', 'sosa', 'alvarez']\n",
      "edad  :  [20, 18, 50]\n",
      "iniciales  :  ['jp', 'ms', 'pa']\n"
     ]
    }
   ],
   "source": [
    "personasordenadas={}\n",
    "for x, y in personas.items():\n",
    "\n",
    "    personasordenadas[x] = [i for _, i in sorted(zip(personas['iniciales'], y))]\n",
    "    print((zip(personas['iniciales'], y)))\n",
    "    print(type(zip(personas['iniciales'], y)))\n",
    "    print(sorted(zip(personas['iniciales'], y)))\n",
    "    print(type(sorted(zip(personas['iniciales'], y))))\n",
    "    print(\"que tiene y?:\", y)\n",
    "    print(\"que tiene el dicc[x]? :\",personasordenadas[x])\n",
    "    print(\"que tiene x?: \",x)\n",
    "    print(\" \")\n",
    "\n",
    "for x,y in personasordenadas.items():\n",
    "    print(x,' : ',y)\n"
   ]
  },
  {
   "cell_type": "code",
   "execution_count": 8,
   "metadata": {},
   "outputs": [
    {
     "name": "stdout",
     "output_type": "stream",
     "text": [
      "nombre  :  ['maria', 'juan', 'pedro', 'alex']\n",
      "apellido  :  ['sosa', 'perez', 'alvarez', 'zeta']\n",
      "edad  :  [18, 20, 50, 40]\n",
      "iniciales  :  ['ms', 'jp', 'pa', 'az']\n"
     ]
    }
   ],
   "source": [
    "i=0\n",
    "new=['alex','zeta',40,'az']\n",
    "for x, y in personas.items():\n",
    "    y.append(new[i])\n",
    "    i+=1\n",
    "\n",
    "for x,y in personas.items():\n",
    "    print(x,' : ',y)"
   ]
  },
  {
   "cell_type": "code",
   "execution_count": 13,
   "metadata": {},
   "outputs": [
    {
     "name": "stdout",
     "output_type": "stream",
     "text": [
      "['maria', 'juan', 'pedro', 'alex']\n",
      "['alex', 'juan', 'maria', 'pedro']\n",
      "['sosa', 'perez', 'alvarez', 'zeta']\n",
      "['alvarez', 'perez', 'sosa', 'zeta']\n",
      "[18, 20, 50, 40]\n",
      "[18, 20, 40, 50]\n",
      "['ms', 'jp', 'pa', 'az']\n",
      "['az', 'jp', 'ms', 'pa']\n"
     ]
    }
   ],
   "source": [
    "\n",
    "for v in personas.values():\n",
    "    print(v)\n",
    "    v=sorted(v, reverse=False)\n",
    "    print(v)    \n",
    "    # o=sorted(v, reverse=True)\n",
    "    # print(o)\n"
   ]
  },
  {
   "cell_type": "code",
   "execution_count": 62,
   "metadata": {},
   "outputs": [
    {
     "name": "stdout",
     "output_type": "stream",
     "text": [
      "['alex', 'juan', 'maria', 'pedro']\n"
     ]
    }
   ],
   "source": [
    "o=sorted(['maria', 'juan', 'pedro', 'alex'])\n",
    "print(o)"
   ]
  }
 ],
 "metadata": {
  "interpreter": {
   "hash": "c85384e4cb51c8b72350f3a8712cc8351fdc3955e32a27f9b60c6242ab125f01"
  },
  "kernelspec": {
   "display_name": "Python 3 (ipykernel)",
   "language": "python",
   "name": "python3"
  },
  "language_info": {
   "codemirror_mode": {
    "name": "ipython",
    "version": 3
   },
   "file_extension": ".py",
   "mimetype": "text/x-python",
   "name": "python",
   "nbconvert_exporter": "python",
   "pygments_lexer": "ipython3",
   "version": "3.10.11"
  }
 },
 "nbformat": 4,
 "nbformat_minor": 4
}
